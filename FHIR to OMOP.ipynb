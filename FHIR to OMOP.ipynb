{
 "cells": [
  {
   "cell_type": "markdown",
   "id": "square-migration",
   "metadata": {},
   "source": [
    "## FHIR to OMOP\n",
    "\n",
    "This is an attempt at mapping FHIR to OMOP using the following guide: https://build.fhir.org/ig/HL7/cdmh/profiles.html#omop-to-fhir-mappings"
   ]
  },
  {
   "cell_type": "markdown",
   "id": "acknowledged-vector",
   "metadata": {},
   "source": [
    "### Connect to Spark cluster\n",
    "\n",
    "Instructions here: https://docs.aws.amazon.com/glue/latest/dg/dev-endpoint.html"
   ]
  },
  {
   "cell_type": "code",
   "execution_count": 1,
   "id": "contrary-alabama",
   "metadata": {
    "scrolled": false
   },
   "outputs": [],
   "source": [
    "#spark.sparkContext.getConf().get('spark.driver.memory')"
   ]
  },
  {
   "cell_type": "markdown",
   "id": "convertible-tradition",
   "metadata": {},
   "source": [
    "### Load Data Frame from Parquet Catalog File"
   ]
  },
  {
   "cell_type": "code",
   "execution_count": 2,
   "id": "dynamic-rabbit",
   "metadata": {},
   "outputs": [],
   "source": [
    "from pyspark.sql import SparkSession\n",
    "from pyspark.sql.functions import dayofmonth,month,year,to_date,trunc,split,explode,array\n",
    "\n",
    "# Create a local Spark session\n",
    "spark = SparkSession.builder.appName('etl').getOrCreate()\n"
   ]
  },
  {
   "cell_type": "code",
   "execution_count": 3,
   "id": "fluid-edwards",
   "metadata": {},
   "outputs": [],
   "source": [
    "# Read in our data\n",
    "df = spark.read.parquet('data/catalog.parquet')"
   ]
  },
  {
   "cell_type": "markdown",
   "id": "solved-toner",
   "metadata": {},
   "source": [
    "Next we want to check out the schema to see what properties are there"
   ]
  },
  {
   "cell_type": "code",
   "execution_count": 4,
   "id": "italian-intranet",
   "metadata": {
    "scrolled": false
   },
   "outputs": [],
   "source": [
    "#df.printSchema()"
   ]
  },
  {
   "cell_type": "markdown",
   "id": "little-cylinder",
   "metadata": {},
   "source": [
    "List of different resource types "
   ]
  },
  {
   "cell_type": "code",
   "execution_count": 5,
   "id": "celtic-transfer",
   "metadata": {},
   "outputs": [
    {
     "name": "stdout",
     "output_type": "stream",
     "text": [
      "+--------------------+\n",
      "|        resourceType|\n",
      "+--------------------+\n",
      "|   DocumentReference|\n",
      "|    DiagnosticReport|\n",
      "|   MedicationRequest|\n",
      "|         Observation|\n",
      "|              Device|\n",
      "|            CarePlan|\n",
      "|ExplanationOfBenefit|\n",
      "|          Provenance|\n",
      "|               Claim|\n",
      "|        Immunization|\n",
      "|           Procedure|\n",
      "|             Patient|\n",
      "|        Organization|\n",
      "|            Location|\n",
      "|              Binary|\n",
      "|           Condition|\n",
      "|            CareTeam|\n",
      "|           Encounter|\n",
      "|        Practitioner|\n",
      "+--------------------+\n",
      "\n"
     ]
    }
   ],
   "source": [
    "df.select('resourceType').distinct().show()"
   ]
  },
  {
   "cell_type": "markdown",
   "id": "delayed-complaint",
   "metadata": {},
   "source": [
    "### Patient Mapping"
   ]
  },
  {
   "cell_type": "markdown",
   "id": "material-country",
   "metadata": {},
   "source": [
    "Filter by patient resource type"
   ]
  },
  {
   "cell_type": "code",
   "execution_count": 6,
   "id": "looking-greensboro",
   "metadata": {},
   "outputs": [],
   "source": [
    "patients = df.filter(df['resourceType'] == 'Patient')"
   ]
  },
  {
   "cell_type": "code",
   "execution_count": 7,
   "id": "virgin-alaska",
   "metadata": {},
   "outputs": [],
   "source": [
    "#patients.printSchema()"
   ]
  },
  {
   "cell_type": "markdown",
   "id": "aware-usage",
   "metadata": {},
   "source": [
    "Drop irrelevant columns (https://www.hl7.org/fhir/patient.html)"
   ]
  },
  {
   "cell_type": "code",
   "execution_count": 8,
   "id": "fabulous-marijuana",
   "metadata": {},
   "outputs": [],
   "source": [
    "persons = patients.select(['id','gender','birthDate'])"
   ]
  },
  {
   "cell_type": "markdown",
   "id": "serious-oxide",
   "metadata": {},
   "source": [
    "Convert date of birth to separate properties"
   ]
  },
  {
   "cell_type": "code",
   "execution_count": 9,
   "id": "olympic-occupation",
   "metadata": {},
   "outputs": [],
   "source": [
    "from pyspark.sql.functions import dayofmonth,month,year,to_date"
   ]
  },
  {
   "cell_type": "code",
   "execution_count": 10,
   "id": "weird-currency",
   "metadata": {},
   "outputs": [],
   "source": [
    "stage_persons = persons\\\n",
    "    .withColumn(\"year_of_birth\",year(persons['birthDate']))\\\n",
    "    .withColumn(\"month_of_birth\",month(persons['birthDate']))\\\n",
    "    .withColumn(\"day_of_birth\",dayofmonth(persons['birthDate']))\\\n",
    "    .withColumn(\"birth_datetime\",to_date(persons['birthDate']))"
   ]
  },
  {
   "cell_type": "code",
   "execution_count": 11,
   "id": "compact-workstation",
   "metadata": {},
   "outputs": [],
   "source": [
    "#stage_persons.select([\n",
    "#    \"year_of_birth\",\"month_of_birth\",\"day_of_birth\",\"birth_datetime\"\n",
    "#]).show(5)"
   ]
  },
  {
   "cell_type": "markdown",
   "id": "subject-usage",
   "metadata": {},
   "source": [
    "Rename Columns"
   ]
  },
  {
   "cell_type": "code",
   "execution_count": 12,
   "id": "copyrighted-delaware",
   "metadata": {},
   "outputs": [],
   "source": [
    "patient_dataframe = stage_persons.withColumnRenamed(\"identifier\",\"person_id\")\\\n",
    "        .withColumnRenamed(\"gender\",\"gender_concept_id\")"
   ]
  },
  {
   "cell_type": "markdown",
   "id": "administrative-advantage",
   "metadata": {},
   "source": [
    "Shows mapped output table<br>\n",
    "TODO: Missing \"provider_id\", \"care_site_id\", \"race_concept_id\",\"ethnicity_concept_id\" and \"location_id\" "
   ]
  },
  {
   "cell_type": "code",
   "execution_count": 13,
   "id": "executed-player",
   "metadata": {
    "scrolled": true
   },
   "outputs": [
    {
     "name": "stdout",
     "output_type": "stream",
     "text": [
      "+--------------------+-----------------+----------+-------------+--------------+------------+--------------+\n",
      "|                  id|gender_concept_id| birthDate|year_of_birth|month_of_birth|day_of_birth|birth_datetime|\n",
      "+--------------------+-----------------+----------+-------------+--------------+------------+--------------+\n",
      "|892799c4-760c-445...|           female|2008-04-18|         2008|             4|          18|    2008-04-18|\n",
      "|394cbec0-93ce-4a9...|           female|1943-08-30|         1943|             8|          30|    1943-08-30|\n",
      "|96f58e83-0237-4a8...|           female|2009-01-01|         2009|             1|           1|    2009-01-01|\n",
      "|b1a91dd8-27d9-439...|             male|1991-10-11|         1991|            10|          11|    1991-10-11|\n",
      "|b9d2e182-6859-402...|             male|2005-11-17|         2005|            11|          17|    2005-11-17|\n",
      "+--------------------+-----------------+----------+-------------+--------------+------------+--------------+\n",
      "only showing top 5 rows\n",
      "\n"
     ]
    }
   ],
   "source": [
    "patient_dataframe.show(5) "
   ]
  },
  {
   "cell_type": "markdown",
   "id": "humanitarian-dispute",
   "metadata": {},
   "source": [
    "Convert to DynamicFrame so it can be outputted in Glue ETL"
   ]
  },
  {
   "cell_type": "code",
   "execution_count": 14,
   "id": "primary-lebanon",
   "metadata": {},
   "outputs": [],
   "source": [
    "#patient_dynamicframe = DynamicFrame.fromDF(patient_dataframe,glueContext,\"patient_dynamicframe\")"
   ]
  },
  {
   "cell_type": "code",
   "execution_count": 15,
   "id": "clinical-custom",
   "metadata": {},
   "outputs": [],
   "source": [
    "#patient_dynamicframe.printSchema()"
   ]
  }
 ],
 "metadata": {
  "kernelspec": {
   "display_name": "etl",
   "language": "python",
   "name": "etl"
  },
  "language_info": {
   "codemirror_mode": {
    "name": "ipython",
    "version": 3
   },
   "file_extension": ".py",
   "mimetype": "text/x-python",
   "name": "python",
   "nbconvert_exporter": "python",
   "pygments_lexer": "ipython3",
   "version": "3.9.2"
  }
 },
 "nbformat": 4,
 "nbformat_minor": 5
}
