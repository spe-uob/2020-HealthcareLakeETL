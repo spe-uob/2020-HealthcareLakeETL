{
 "cells": [
  {
   "cell_type": "markdown",
   "id": "square-migration",
   "metadata": {},
   "source": [
    "## FHIR to OMOP\n",
    "\n",
    "This is an attempt at mapping FHIR to OMOP using the following guide: https://build.fhir.org/ig/HL7/cdmh/profiles.html#omop-to-fhir-mappings"
   ]
  },
  {
   "cell_type": "markdown",
   "id": "acknowledged-vector",
   "metadata": {},
   "source": [
    "### Connect to Spark cluster\n",
    "\n",
    "Instructions here: https://docs.aws.amazon.com/glue/latest/dg/dev-endpoint.html"
   ]
  },
  {
   "cell_type": "code",
   "execution_count": 132,
   "id": "contrary-alabama",
   "metadata": {},
   "outputs": [
    {
     "data": {
      "application/vnd.jupyter.widget-view+json": {
       "model_id": "",
       "version_major": 2,
       "version_minor": 0
      },
      "text/plain": [
       "FloatProgress(value=0.0, bar_style='info', description='Progress:', layout=Layout(height='25px', width='50%'),…"
      ]
     },
     "metadata": {},
     "output_type": "display_data"
    },
    {
     "name": "stderr",
     "output_type": "stream",
     "text": [
      "An error was encountered:\n",
      "'SparkSession' object has no attribute 'getConf'\n",
      "Traceback (most recent call last):\n",
      "AttributeError: 'SparkSession' object has no attribute 'getConf'\n",
      "\n"
     ]
    }
   ],
   "source": [
    "spark.sparkContext.getConf().get('spark.driver.memory')"
   ]
  },
  {
   "cell_type": "markdown",
   "id": "convertible-tradition",
   "metadata": {},
   "source": [
    "### Load DynamicFrame from Glue Catalog\n",
    "\n",
    "This is similar to DataFrame but allows for dynamic schema changes which is what we want"
   ]
  },
  {
   "cell_type": "code",
   "execution_count": 160,
   "id": "dynamic-rabbit",
   "metadata": {},
   "outputs": [
    {
     "data": {
      "application/vnd.jupyter.widget-view+json": {
       "model_id": "",
       "version_major": 2,
       "version_minor": 0
      },
      "text/plain": [
       "FloatProgress(value=0.0, bar_style='info', description='Progress:', layout=Layout(height='25px', width='50%'),…"
      ]
     },
     "metadata": {},
     "output_type": "display_data"
    }
   ],
   "source": [
    "from awsglue.context import GlueContext\n",
    "from pyspark.sql import SparkSession\n",
    "from awsglue.dynamicframe import DynamicFrame\n",
    "\n",
    "glueContext = GlueContext(SparkSession.builder.enableHiveSupport().getOrCreate())\n",
    "spark = glueContext.spark_session\n"
   ]
  },
  {
   "cell_type": "code",
   "execution_count": 161,
   "id": "fluid-edwards",
   "metadata": {},
   "outputs": [
    {
     "data": {
      "application/vnd.jupyter.widget-view+json": {
       "model_id": "",
       "version_major": 2,
       "version_minor": 0
      },
      "text/plain": [
       "FloatProgress(value=0.0, bar_style='info', description='Progress:', layout=Layout(height='25px', width='50%'),…"
      ]
     },
     "metadata": {},
     "output_type": "display_data"
    }
   ],
   "source": [
    "df = glueContext.create_dynamic_frame.from_catalog(\n",
    "    database=\"fhir-catalog\", table_name=\"resource_db_dev\")"
   ]
  },
  {
   "cell_type": "markdown",
   "id": "solved-toner",
   "metadata": {},
   "source": [
    "Next we want to check out the schema to see what properties are there"
   ]
  },
  {
   "cell_type": "code",
   "execution_count": 162,
   "id": "italian-intranet",
   "metadata": {
    "scrolled": false
   },
   "outputs": [
    {
     "data": {
      "application/vnd.jupyter.widget-view+json": {
       "model_id": "",
       "version_major": 2,
       "version_minor": 0
      },
      "text/plain": [
       "FloatProgress(value=0.0, bar_style='info', description='Progress:', layout=Layout(height='25px', width='50%'),…"
      ]
     },
     "metadata": {},
     "output_type": "display_data"
    }
   ],
   "source": [
    "#df.printSchema()"
   ]
  },
  {
   "cell_type": "markdown",
   "id": "delayed-complaint",
   "metadata": {},
   "source": [
    "### Start with Patient"
   ]
  },
  {
   "cell_type": "code",
   "execution_count": 163,
   "id": "equivalent-grant",
   "metadata": {},
   "outputs": [
    {
     "data": {
      "application/vnd.jupyter.widget-view+json": {
       "model_id": "",
       "version_major": 2,
       "version_minor": 0
      },
      "text/plain": [
       "FloatProgress(value=0.0, bar_style='info', description='Progress:', layout=Layout(height='25px', width='50%'),…"
      ]
     },
     "metadata": {},
     "output_type": "display_data"
    }
   ],
   "source": [
    "df = df.toDF()"
   ]
  },
  {
   "cell_type": "markdown",
   "id": "little-cylinder",
   "metadata": {},
   "source": [
    "Other resource types "
   ]
  },
  {
   "cell_type": "code",
   "execution_count": 164,
   "id": "celtic-transfer",
   "metadata": {},
   "outputs": [
    {
     "data": {
      "application/vnd.jupyter.widget-view+json": {
       "model_id": "",
       "version_major": 2,
       "version_minor": 0
      },
      "text/plain": [
       "FloatProgress(value=0.0, bar_style='info', description='Progress:', layout=Layout(height='25px', width='50%'),…"
      ]
     },
     "metadata": {},
     "output_type": "display_data"
    },
    {
     "name": "stdout",
     "output_type": "stream",
     "text": [
      "+--------------------+\n",
      "|        resourceType|\n",
      "+--------------------+\n",
      "|   DocumentReference|\n",
      "|    DiagnosticReport|\n",
      "|   MedicationRequest|\n",
      "|         Observation|\n",
      "|              Device|\n",
      "|            CarePlan|\n",
      "|ExplanationOfBenefit|\n",
      "|          Provenance|\n",
      "|               Claim|\n",
      "|        Immunization|\n",
      "|           Procedure|\n",
      "|             Patient|\n",
      "|        Organization|\n",
      "|            Location|\n",
      "|              Binary|\n",
      "|           Condition|\n",
      "|            CareTeam|\n",
      "|           Encounter|\n",
      "|        Practitioner|\n",
      "+--------------------+"
     ]
    }
   ],
   "source": [
    "df.select('resourceType').distinct().show()"
   ]
  },
  {
   "cell_type": "markdown",
   "id": "material-country",
   "metadata": {},
   "source": [
    "Filter by patient resource type"
   ]
  },
  {
   "cell_type": "code",
   "execution_count": 165,
   "id": "looking-greensboro",
   "metadata": {},
   "outputs": [
    {
     "data": {
      "application/vnd.jupyter.widget-view+json": {
       "model_id": "",
       "version_major": 2,
       "version_minor": 0
      },
      "text/plain": [
       "FloatProgress(value=0.0, bar_style='info', description='Progress:', layout=Layout(height='25px', width='50%'),…"
      ]
     },
     "metadata": {},
     "output_type": "display_data"
    }
   ],
   "source": [
    "patients = df.filter(df['resourceType'] == 'Patient')"
   ]
  },
  {
   "cell_type": "code",
   "execution_count": 177,
   "id": "virgin-alaska",
   "metadata": {},
   "outputs": [
    {
     "data": {
      "application/vnd.jupyter.widget-view+json": {
       "model_id": "",
       "version_major": 2,
       "version_minor": 0
      },
      "text/plain": [
       "FloatProgress(value=0.0, bar_style='info', description='Progress:', layout=Layout(height='25px', width='50%'),…"
      ]
     },
     "metadata": {},
     "output_type": "display_data"
    }
   ],
   "source": [
    "#patients.printSchema()"
   ]
  },
  {
   "cell_type": "markdown",
   "id": "aware-usage",
   "metadata": {},
   "source": [
    "Drop irrelevant columns (https://www.hl7.org/fhir/patient.html)"
   ]
  },
  {
   "cell_type": "code",
   "execution_count": 178,
   "id": "fabulous-marijuana",
   "metadata": {},
   "outputs": [
    {
     "data": {
      "application/vnd.jupyter.widget-view+json": {
       "model_id": "",
       "version_major": 2,
       "version_minor": 0
      },
      "text/plain": [
       "FloatProgress(value=0.0, bar_style='info', description='Progress:', layout=Layout(height='25px', width='50%'),…"
      ]
     },
     "metadata": {},
     "output_type": "display_data"
    }
   ],
   "source": [
    "persons = patients.select(['id','gender','birthDate'])"
   ]
  },
  {
   "cell_type": "markdown",
   "id": "serious-oxide",
   "metadata": {},
   "source": [
    "Convert date of birth to separate properties"
   ]
  },
  {
   "cell_type": "code",
   "execution_count": 179,
   "id": "olympic-occupation",
   "metadata": {},
   "outputs": [
    {
     "data": {
      "application/vnd.jupyter.widget-view+json": {
       "model_id": "",
       "version_major": 2,
       "version_minor": 0
      },
      "text/plain": [
       "FloatProgress(value=0.0, bar_style='info', description='Progress:', layout=Layout(height='25px', width='50%'),…"
      ]
     },
     "metadata": {},
     "output_type": "display_data"
    }
   ],
   "source": [
    "from pyspark.sql.functions import dayofmonth,month,year,to_date"
   ]
  },
  {
   "cell_type": "code",
   "execution_count": 180,
   "id": "weird-currency",
   "metadata": {},
   "outputs": [
    {
     "data": {
      "application/vnd.jupyter.widget-view+json": {
       "model_id": "",
       "version_major": 2,
       "version_minor": 0
      },
      "text/plain": [
       "FloatProgress(value=0.0, bar_style='info', description='Progress:', layout=Layout(height='25px', width='50%'),…"
      ]
     },
     "metadata": {},
     "output_type": "display_data"
    }
   ],
   "source": [
    "stage_persons = persons\\\n",
    "    .withColumn(\"year_of_birth\",year(persons['birthDate']))\\\n",
    "    .withColumn(\"month_of_birth\",month(persons['birthDate']))\\\n",
    "    .withColumn(\"day_of_birth\",dayofmonth(persons['birthDate']))\\\n",
    "    .withColumn(\"birth_datetime\",to_date(persons['birthDate']))"
   ]
  },
  {
   "cell_type": "code",
   "execution_count": 181,
   "id": "compact-workstation",
   "metadata": {},
   "outputs": [
    {
     "data": {
      "application/vnd.jupyter.widget-view+json": {
       "model_id": "",
       "version_major": 2,
       "version_minor": 0
      },
      "text/plain": [
       "FloatProgress(value=0.0, bar_style='info', description='Progress:', layout=Layout(height='25px', width='50%'),…"
      ]
     },
     "metadata": {},
     "output_type": "display_data"
    }
   ],
   "source": [
    "#stage_persons.select([\n",
    "#    \"year_of_birth\",\"month_of_birth\",\"day_of_birth\",\"birth_datetime\"\n",
    "#]).show(5)"
   ]
  },
  {
   "cell_type": "markdown",
   "id": "subject-usage",
   "metadata": {},
   "source": [
    "Rename Columns"
   ]
  },
  {
   "cell_type": "code",
   "execution_count": 182,
   "id": "copyrighted-delaware",
   "metadata": {},
   "outputs": [
    {
     "data": {
      "application/vnd.jupyter.widget-view+json": {
       "model_id": "",
       "version_major": 2,
       "version_minor": 0
      },
      "text/plain": [
       "FloatProgress(value=0.0, bar_style='info', description='Progress:', layout=Layout(height='25px', width='50%'),…"
      ]
     },
     "metadata": {},
     "output_type": "display_data"
    }
   ],
   "source": [
    "patient_dataframe = stage_persons.withColumnRenamed(\"identifier\",\"person_id\")\\\n",
    "        .withColumnRenamed(\"gender\",\"gender_concept_id\")"
   ]
  },
  {
   "cell_type": "markdown",
   "id": "administrative-advantage",
   "metadata": {},
   "source": [
    "Shows mapped output table<br>\n",
    "TODO: Missing \"provider_id\", \"care_site_id\", \"race_concept_id\",\"ethnicity_concept_id\" and \"location_id\" "
   ]
  },
  {
   "cell_type": "code",
   "execution_count": 183,
   "id": "executed-player",
   "metadata": {
    "scrolled": true
   },
   "outputs": [
    {
     "data": {
      "application/vnd.jupyter.widget-view+json": {
       "model_id": "",
       "version_major": 2,
       "version_minor": 0
      },
      "text/plain": [
       "FloatProgress(value=0.0, bar_style='info', description='Progress:', layout=Layout(height='25px', width='50%'),…"
      ]
     },
     "metadata": {},
     "output_type": "display_data"
    },
    {
     "name": "stdout",
     "output_type": "stream",
     "text": [
      "+--------------------+-----------------+----------+-------------+--------------+------------+--------------+\n",
      "|                  id|gender_concept_id| birthDate|year_of_birth|month_of_birth|day_of_birth|birth_datetime|\n",
      "+--------------------+-----------------+----------+-------------+--------------+------------+--------------+\n",
      "|b1a91dd8-27d9-439...|             male|1991-10-11|         1991|            10|          11|    1991-10-11|\n",
      "|5697c724-a5cd-479...|           female|2001-08-03|         2001|             8|           3|    2001-08-03|\n",
      "|81bfb1ae-323f-43a...|           female|2018-05-11|         2018|             5|          11|    2018-05-11|\n",
      "|e3b2af8e-24ce-493...|           female|1980-06-16|         1980|             6|          16|    1980-06-16|\n",
      "|1eb90da7-fff7-46a...|             male|1988-05-06|         1988|             5|           6|    1988-05-06|\n",
      "+--------------------+-----------------+----------+-------------+--------------+------------+--------------+\n",
      "only showing top 5 rows"
     ]
    }
   ],
   "source": [
    "patient_dataframe.show(5) "
   ]
  },
  {
   "cell_type": "markdown",
   "id": "humanitarian-dispute",
   "metadata": {},
   "source": [
    "Convert to DynamicFrame so it can be outputted in Glue ETL"
   ]
  },
  {
   "cell_type": "code",
   "execution_count": 184,
   "id": "primary-lebanon",
   "metadata": {},
   "outputs": [
    {
     "data": {
      "application/vnd.jupyter.widget-view+json": {
       "model_id": "",
       "version_major": 2,
       "version_minor": 0
      },
      "text/plain": [
       "FloatProgress(value=0.0, bar_style='info', description='Progress:', layout=Layout(height='25px', width='50%'),…"
      ]
     },
     "metadata": {},
     "output_type": "display_data"
    }
   ],
   "source": [
    "patient_dynamicframe = DynamicFrame.fromDF(patient_dataframe,glueContext,\"patient_dynamicframe\")"
   ]
  },
  {
   "cell_type": "code",
   "execution_count": 185,
   "id": "clinical-custom",
   "metadata": {},
   "outputs": [
    {
     "data": {
      "application/vnd.jupyter.widget-view+json": {
       "model_id": "",
       "version_major": 2,
       "version_minor": 0
      },
      "text/plain": [
       "FloatProgress(value=0.0, bar_style='info', description='Progress:', layout=Layout(height='25px', width='50%'),…"
      ]
     },
     "metadata": {},
     "output_type": "display_data"
    },
    {
     "name": "stdout",
     "output_type": "stream",
     "text": [
      "root\n",
      "|-- id: string\n",
      "|-- gender_concept_id: string\n",
      "|-- birthDate: string\n",
      "|-- year_of_birth: int\n",
      "|-- month_of_birth: int\n",
      "|-- day_of_birth: int\n",
      "|-- birth_datetime: date"
     ]
    }
   ],
   "source": [
    "patient_dynamicframe.printSchema()"
   ]
  }
 ],
 "metadata": {
  "kernelspec": {
   "display_name": "PySpark",
   "language": "python",
   "name": "pysparkkernel"
  },
  "language_info": {
   "codemirror_mode": {
    "name": "python",
    "version": 3
   },
   "file_extension": ".py",
   "mimetype": "text/x-python",
   "name": "pyspark",
   "pygments_lexer": "python3"
  }
 },
 "nbformat": 4,
 "nbformat_minor": 5
}
