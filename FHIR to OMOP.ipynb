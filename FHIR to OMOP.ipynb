{
 "cells": [
  {
   "cell_type": "markdown",
   "id": "pleased-lambda",
   "metadata": {},
   "source": [
    "## FHIR to OMOP\n",
    "\n",
    "This is an attempt at mapping FHIR to OMOP using the following guide: https://build.fhir.org/ig/HL7/cdmh/profiles.html#omop-to-fhir-mappings"
   ]
  },
  {
   "cell_type": "markdown",
   "id": "patient-award",
   "metadata": {},
   "source": [
    "### Connect to Spark cluster\n",
    "\n",
    "Instructions here: https://docs.aws.amazon.com/glue/latest/dg/dev-endpoint.html"
   ]
  },
  {
   "cell_type": "code",
   "execution_count": 1,
   "id": "tribal-stations",
   "metadata": {},
   "outputs": [
    {
     "name": "stdout",
     "output_type": "stream",
     "text": [
      "Starting Spark application\n"
     ]
    },
    {
     "data": {
      "text/html": [
       "<table>\n",
       "<tr><th>ID</th><th>YARN Application ID</th><th>Kind</th><th>State</th><th>Spark UI</th><th>Driver log</th><th>User</th><th>Current session?</th></tr><tr><td>3</td><td>application_1615075593408_0004</td><td>pyspark</td><td>idle</td><td><a target=\"_blank\" href=\"http://ip-172-31-31-43.eu-west-2.compute.internal:20888/proxy/application_1615075593408_0004/\">Link</a></td><td><a target=\"_blank\" href=\"http://ip-172-31-22-212.eu-west-2.compute.internal:8042/node/containerlogs/container_1615075593408_0004_01_000001/livy\">Link</a></td><td>None</td><td>✔</td></tr></table>"
      ],
      "text/plain": [
       "<IPython.core.display.HTML object>"
      ]
     },
     "metadata": {},
     "output_type": "display_data"
    },
    {
     "data": {
      "application/vnd.jupyter.widget-view+json": {
       "model_id": "",
       "version_major": 2,
       "version_minor": 0
      },
      "text/plain": [
       "FloatProgress(value=0.0, bar_style='info', description='Progress:', layout=Layout(height='25px', width='50%'),…"
      ]
     },
     "metadata": {},
     "output_type": "display_data"
    },
    {
     "name": "stdout",
     "output_type": "stream",
     "text": [
      "SparkSession available as 'spark'.\n"
     ]
    },
    {
     "data": {
      "application/vnd.jupyter.widget-view+json": {
       "model_id": "",
       "version_major": 2,
       "version_minor": 0
      },
      "text/plain": [
       "FloatProgress(value=0.0, bar_style='info', description='Progress:', layout=Layout(height='25px', width='50%'),…"
      ]
     },
     "metadata": {},
     "output_type": "display_data"
    },
    {
     "name": "stdout",
     "output_type": "stream",
     "text": [
      "'6000M'"
     ]
    }
   ],
   "source": [
    "spark.sparkContext.getConf().get('spark.driver.memory')"
   ]
  },
  {
   "cell_type": "markdown",
   "id": "passive-withdrawal",
   "metadata": {},
   "source": [
    "### Load DynamicFrame from Glue Catalog\n",
    "\n",
    "This is similar to DataFrame but allows for dynamic schema changes which is what we want"
   ]
  },
  {
   "cell_type": "code",
   "execution_count": 2,
   "id": "moving-event",
   "metadata": {},
   "outputs": [
    {
     "data": {
      "application/vnd.jupyter.widget-view+json": {
       "model_id": "",
       "version_major": 2,
       "version_minor": 0
      },
      "text/plain": [
       "FloatProgress(value=0.0, bar_style='info', description='Progress:', layout=Layout(height='25px', width='50%'),…"
      ]
     },
     "metadata": {},
     "output_type": "display_data"
    }
   ],
   "source": [
    "from awsglue.context import GlueContext\n",
    "from pyspark.sql import SparkSession\n",
    "\n",
    "glueContext = GlueContext(SparkSession.builder.enableHiveSupport().getOrCreate())\n",
    "spark = glueContext.spark_session\n"
   ]
  },
  {
   "cell_type": "code",
   "execution_count": 3,
   "id": "owned-pavilion",
   "metadata": {},
   "outputs": [
    {
     "data": {
      "application/vnd.jupyter.widget-view+json": {
       "model_id": "",
       "version_major": 2,
       "version_minor": 0
      },
      "text/plain": [
       "FloatProgress(value=0.0, bar_style='info', description='Progress:', layout=Layout(height='25px', width='50%'),…"
      ]
     },
     "metadata": {},
     "output_type": "display_data"
    }
   ],
   "source": [
    "df = glueContext.create_dynamic_frame.from_catalog(\n",
    "    database=\"fhir-catalog\", table_name=\"resource_db_dev\")"
   ]
  },
  {
   "cell_type": "markdown",
   "id": "first-mathematics",
   "metadata": {},
   "source": [
    "Next we want to check out the schema to see what properties are there"
   ]
  },
  {
   "cell_type": "code",
   "execution_count": 69,
   "id": "turkish-japanese",
   "metadata": {},
   "outputs": [
    {
     "data": {
      "application/vnd.jupyter.widget-view+json": {
       "model_id": "",
       "version_major": 2,
       "version_minor": 0
      },
      "text/plain": [
       "FloatProgress(value=0.0, bar_style='info', description='Progress:', layout=Layout(height='25px', width='50%'),…"
      ]
     },
     "metadata": {},
     "output_type": "display_data"
    }
   ],
   "source": [
    "#df.printSchema()"
   ]
  },
  {
   "cell_type": "markdown",
   "id": "mechanical-committee",
   "metadata": {},
   "source": [
    "### Start with Patient"
   ]
  },
  {
   "cell_type": "code",
   "execution_count": 14,
   "id": "cultural-affair",
   "metadata": {},
   "outputs": [
    {
     "data": {
      "application/vnd.jupyter.widget-view+json": {
       "model_id": "",
       "version_major": 2,
       "version_minor": 0
      },
      "text/plain": [
       "FloatProgress(value=0.0, bar_style='info', description='Progress:', layout=Layout(height='25px', width='50%'),…"
      ]
     },
     "metadata": {},
     "output_type": "display_data"
    }
   ],
   "source": [
    "df = df.toDF()"
   ]
  },
  {
   "cell_type": "code",
   "execution_count": 23,
   "id": "medieval-northern",
   "metadata": {},
   "outputs": [
    {
     "data": {
      "application/vnd.jupyter.widget-view+json": {
       "model_id": "",
       "version_major": 2,
       "version_minor": 0
      },
      "text/plain": [
       "FloatProgress(value=0.0, bar_style='info', description='Progress:', layout=Layout(height='25px', width='50%'),…"
      ]
     },
     "metadata": {},
     "output_type": "display_data"
    }
   ],
   "source": [
    "patients = df.filter(df['resourceType'] == 'Patient')"
   ]
  },
  {
   "cell_type": "code",
   "execution_count": 70,
   "id": "heavy-stand",
   "metadata": {},
   "outputs": [
    {
     "data": {
      "application/vnd.jupyter.widget-view+json": {
       "model_id": "",
       "version_major": 2,
       "version_minor": 0
      },
      "text/plain": [
       "FloatProgress(value=0.0, bar_style='info', description='Progress:', layout=Layout(height='25px', width='50%'),…"
      ]
     },
     "metadata": {},
     "output_type": "display_data"
    }
   ],
   "source": [
    "#patients.printSchema()"
   ]
  },
  {
   "cell_type": "markdown",
   "id": "material-material",
   "metadata": {},
   "source": [
    "Drop irrelevant columns (https://www.hl7.org/fhir/patient.html)"
   ]
  },
  {
   "cell_type": "code",
   "execution_count": 52,
   "id": "loved-lying",
   "metadata": {},
   "outputs": [
    {
     "data": {
      "application/vnd.jupyter.widget-view+json": {
       "model_id": "",
       "version_major": 2,
       "version_minor": 0
      },
      "text/plain": [
       "FloatProgress(value=0.0, bar_style='info', description='Progress:', layout=Layout(height='25px', width='50%'),…"
      ]
     },
     "metadata": {},
     "output_type": "display_data"
    }
   ],
   "source": [
    "persons = patients.select(['identifier','gender','birthDate'])"
   ]
  },
  {
   "cell_type": "markdown",
   "id": "black-mystery",
   "metadata": {},
   "source": [
    "Convert date of birth to separate properties"
   ]
  },
  {
   "cell_type": "code",
   "execution_count": 65,
   "id": "separate-assets",
   "metadata": {},
   "outputs": [
    {
     "data": {
      "application/vnd.jupyter.widget-view+json": {
       "model_id": "",
       "version_major": 2,
       "version_minor": 0
      },
      "text/plain": [
       "FloatProgress(value=0.0, bar_style='info', description='Progress:', layout=Layout(height='25px', width='50%'),…"
      ]
     },
     "metadata": {},
     "output_type": "display_data"
    }
   ],
   "source": [
    "from pyspark.sql.functions import dayofmonth,month,year,to_date"
   ]
  },
  {
   "cell_type": "code",
   "execution_count": 66,
   "id": "contrary-aggregate",
   "metadata": {},
   "outputs": [
    {
     "data": {
      "application/vnd.jupyter.widget-view+json": {
       "model_id": "",
       "version_major": 2,
       "version_minor": 0
      },
      "text/plain": [
       "FloatProgress(value=0.0, bar_style='info', description='Progress:', layout=Layout(height='25px', width='50%'),…"
      ]
     },
     "metadata": {},
     "output_type": "display_data"
    }
   ],
   "source": [
    "stage_persons = persons\\\n",
    "    .withColumn(\"year_of_birth\",year(persons['birthDate']))\\\n",
    "    .withColumn(\"month_of_birth\",month(persons['birthDate']))\\\n",
    "    .withColumn(\"day_of_birth\",dayofmonth(persons['birthDate']))\\\n",
    "    .withColumn(\"birth_datetime\",to_date(persons['birthDate']))"
   ]
  },
  {
   "cell_type": "code",
   "execution_count": 68,
   "id": "honest-slovenia",
   "metadata": {},
   "outputs": [
    {
     "data": {
      "application/vnd.jupyter.widget-view+json": {
       "model_id": "",
       "version_major": 2,
       "version_minor": 0
      },
      "text/plain": [
       "FloatProgress(value=0.0, bar_style='info', description='Progress:', layout=Layout(height='25px', width='50%'),…"
      ]
     },
     "metadata": {},
     "output_type": "display_data"
    },
    {
     "name": "stdout",
     "output_type": "stream",
     "text": [
      "+-------------+--------------+------------+--------------+\n",
      "|year_of_birth|month_of_birth|day_of_birth|birth_datetime|\n",
      "+-------------+--------------+------------+--------------+\n",
      "|         1983|            12|          17|    1983-12-17|\n",
      "|         1996|             7|          23|    1996-07-23|\n",
      "|         2008|             1|          15|    2008-01-15|\n",
      "|         1971|             8|          24|    1971-08-24|\n",
      "|         1968|             2|           3|    1968-02-03|\n",
      "+-------------+--------------+------------+--------------+\n",
      "only showing top 5 rows"
     ]
    }
   ],
   "source": [
    "stage_persons.select([\n",
    "    \"year_of_birth\",\"month_of_birth\",\"day_of_birth\",\"birth_datetime\"\n",
    "]).show(5)"
   ]
  },
  {
   "cell_type": "code",
   "execution_count": null,
   "id": "parental-repository",
   "metadata": {},
   "outputs": [],
   "source": []
  }
 ],
 "metadata": {
  "kernelspec": {
   "display_name": "PySpark",
   "language": "python",
   "name": "pysparkkernel"
  },
  "language_info": {
   "codemirror_mode": {
    "name": "python",
    "version": 3
   },
   "file_extension": ".py",
   "mimetype": "text/x-python",
   "name": "pyspark",
   "pygments_lexer": "python3"
  }
 },
 "nbformat": 4,
 "nbformat_minor": 5
}
