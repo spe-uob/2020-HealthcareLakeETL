{
 "cells": [
  {
   "cell_type": "code",
   "execution_count": 24,
   "id": "public-strengthening",
   "metadata": {},
   "outputs": [],
   "source": [
    "from pyspark.context import SparkContext, SparkConf\n",
    "from awsglue.dynamicframe import DynamicFrame\n",
    "import awsglue.transforms as T"
   ]
  },
  {
   "cell_type": "code",
   "execution_count": 2,
   "id": "tender-security",
   "metadata": {},
   "outputs": [],
   "source": [
    "# this is just so i can develop with local glue libs\n",
    "jars = '/Users/joe/aws-glue-libs/jarsv1/*'\n",
    "sc = SparkContext(conf=SparkConf().setAll([\n",
    "    ('spark.executor.extraClassPath', jars),\n",
    "    ('spark.driver.extraClassPath', jars)\n",
    "]))"
   ]
  },
  {
   "cell_type": "code",
   "execution_count": 3,
   "id": "heated-poultry",
   "metadata": {},
   "outputs": [],
   "source": [
    "from awsglue.context import GlueContext\n",
    "\n",
    "glueContext = GlueContext(sc)\n",
    "\n",
    "spark = glueContext.spark_session"
   ]
  },
  {
   "cell_type": "markdown",
   "id": "prescribed-ukraine",
   "metadata": {},
   "source": [
    "### Read in the data\n",
    "\n",
    "Use a dynamicframe to deal with null values or variable types"
   ]
  },
  {
   "cell_type": "code",
   "execution_count": 4,
   "id": "loving-fusion",
   "metadata": {},
   "outputs": [],
   "source": [
    "data = spark.read.parquet('data/catalog.parquet')"
   ]
  },
  {
   "cell_type": "code",
   "execution_count": 5,
   "id": "stuffed-colombia",
   "metadata": {},
   "outputs": [],
   "source": [
    "datasource = DynamicFrame.fromDF(data, glueContext, 'datasource')"
   ]
  },
  {
   "cell_type": "markdown",
   "id": "caring-barrier",
   "metadata": {},
   "source": [
    "### Grab the Location records\n",
    "\n",
    "This is the primary source of locations but there might be others in other resources."
   ]
  },
  {
   "cell_type": "code",
   "execution_count": 25,
   "id": "governing-april",
   "metadata": {},
   "outputs": [
    {
     "name": "stdout",
     "output_type": "stream",
     "text": [
      "null_fields ['identifier.type', 'identifier.use', 'identifier.period', 'identifier.extension', 'identifier.assigner', 'name.array', 'type', 'address.array']\n"
     ]
    }
   ],
   "source": [
    "locations = datasource.filter(\n",
    "    lambda r: r['resourceType'] == 'Location'\n",
    ")\n",
    "locations = locations.select_fields(\n",
    "    ['identifier','name','type','address','position']\n",
    ")\n",
    "locations = T.DropNullFields.apply(locations, \"locations\")"
   ]
  },
  {
   "cell_type": "markdown",
   "id": "driving-portuguese",
   "metadata": {},
   "source": [
    "Let's have a look to see where we can find addresses"
   ]
  },
  {
   "cell_type": "code",
   "execution_count": 7,
   "id": "satellite-dietary",
   "metadata": {},
   "outputs": [],
   "source": [
    "addresses = datasource.filter(\n",
    "    lambda r: r['address']\n",
    ")"
   ]
  },
  {
   "cell_type": "code",
   "execution_count": 8,
   "id": "danish-narrow",
   "metadata": {},
   "outputs": [],
   "source": []
  },
  {
   "cell_type": "code",
   "execution_count": 9,
   "id": "driving-suffering",
   "metadata": {},
   "outputs": [
    {
     "name": "stdout",
     "output_type": "stream",
     "text": [
      "null_fields ['created', 'serialNumber', 'encounter', 'agent', 'presentedForm', 'date', 'serviceProvider', 'effectiveDateTime', 'prescription', 'referral', 'insurer', 'activity', 'result', 'occurrenceDateTime', 'location', 'verificationStatus', 'recorded', 'intent', 'contained', 'serviceType', 'type.struct', 'issued', 'custodian', 'udiCarrier', 'total', 'onsetDateTime', 'component', 'valueQuantity', 'use', 'procedure', 'addresses', 'target', 'facility', 'careTeam', 'managingOrganization.array', 'length', 'deviceName', 'participant', 'outcome', 'supportingInfo', 'abatementDateTime', 'patient', 'claim', 'category', 'hospitalization', 'manufactureDate', 'expirationDate', 'reasonReference', 'primarySource', 'code', 'period', 'billablePeriod', 'vaccineCode', 'payment', 'priority', 'recordedDate', 'medicationCodeableConcept', 'provider', 'content', 'valueCodeableConcept', 'class', 'requester', 'lotNumber', 'clinicalStatus', 'author', 'item', 'authoredOn', 'diagnosis', 'insurance', 'distinctIdentifier', 'contentType', 'performer', 'performedPeriod', 'subject', 'reasonCode', 'dosageInstruction', 'context']\n"
     ]
    }
   ],
   "source": [
    "addresses = T.DropNullFields.apply(addresses, \"addresses\")"
   ]
  },
  {
   "cell_type": "code",
   "execution_count": 16,
   "id": "incident-emperor",
   "metadata": {},
   "outputs": [],
   "source": [
    "df = addresses.toDF()"
   ]
  },
  {
   "cell_type": "code",
   "execution_count": 17,
   "id": "cosmetic-catholic",
   "metadata": {},
   "outputs": [
    {
     "name": "stdout",
     "output_type": "stream",
     "text": [
      "+------------+\n",
      "|resourceType|\n",
      "+------------+\n",
      "|     Patient|\n",
      "|Organization|\n",
      "|    Location|\n",
      "|Practitioner|\n",
      "+------------+\n",
      "\n"
     ]
    }
   ],
   "source": [
    "df.select('resourceType').distinct().show()"
   ]
  },
  {
   "cell_type": "markdown",
   "id": "further-failing",
   "metadata": {},
   "source": [
    "So we can see there are more locations in **Patient**, **Organization** and **Practitioner**"
   ]
  },
  {
   "cell_type": "markdown",
   "id": "hindu-graphic",
   "metadata": {},
   "source": [
    "Let's have a look at the schema:"
   ]
  },
  {
   "cell_type": "code",
   "execution_count": 18,
   "id": "increasing-affiliate",
   "metadata": {},
   "outputs": [
    {
     "name": "stdout",
     "output_type": "stream",
     "text": [
      "root\n",
      " |-- address: struct (nullable = true)\n",
      " |    |-- struct: struct (nullable = true)\n",
      " |    |    |-- postalCode: string (nullable = true)\n",
      " |    |    |-- city: string (nullable = true)\n",
      " |    |    |-- country: string (nullable = true)\n",
      " |    |    |-- state: string (nullable = true)\n",
      " |    |    |-- line: array (nullable = true)\n",
      " |    |    |    |-- element: string (containsNull = true)\n",
      " |    |-- array: array (nullable = true)\n",
      " |    |    |-- element: struct (containsNull = true)\n",
      " |    |    |    |-- text: string (nullable = true)\n",
      " |    |    |    |-- postalCode: string (nullable = true)\n",
      " |    |    |    |-- district: string (nullable = true)\n",
      " |    |    |    |-- city: string (nullable = true)\n",
      " |    |    |    |-- type: string (nullable = true)\n",
      " |    |    |    |-- country: string (nullable = true)\n",
      " |    |    |    |-- state: string (nullable = true)\n",
      " |    |    |    |-- use: string (nullable = true)\n",
      " |    |    |    |-- line: array (nullable = true)\n",
      " |    |    |    |    |-- element: string (containsNull = true)\n",
      " |    |    |    |-- period: struct (nullable = true)\n",
      " |    |    |    |    |-- start: string (nullable = true)\n",
      " |    |    |    |-- extension: array (nullable = true)\n",
      " |    |    |    |    |-- element: struct (containsNull = true)\n",
      " |    |    |    |    |    |-- url: string (nullable = true)\n",
      " |    |    |    |    |    |-- extension: array (nullable = true)\n",
      " |    |    |    |    |    |    |-- element: struct (containsNull = true)\n",
      " |    |    |    |    |    |    |    |-- url: string (nullable = true)\n",
      " |    |    |    |    |    |    |    |-- valueDecimal: double (nullable = true)\n",
      "\n"
     ]
    }
   ],
   "source": [
    "df.select('address').printSchema()"
   ]
  },
  {
   "cell_type": "markdown",
   "id": "informative-redhead",
   "metadata": {},
   "source": [
    "So there's a zero or more cardinality and it's either a struct or an array of structs. \n",
    "\n",
    "We need to normalize this data using the `explode()` method "
   ]
  },
  {
   "cell_type": "code",
   "execution_count": 19,
   "id": "checked-consciousness",
   "metadata": {},
   "outputs": [],
   "source": [
    "import pyspark.sql.functions as F"
   ]
  },
  {
   "cell_type": "code",
   "execution_count": 20,
   "id": "decent-elimination",
   "metadata": {},
   "outputs": [],
   "source": [
    "df = df.withColumn('address', F.explode(df.address.array))"
   ]
  },
  {
   "cell_type": "code",
   "execution_count": 21,
   "id": "median-service",
   "metadata": {},
   "outputs": [
    {
     "name": "stdout",
     "output_type": "stream",
     "text": [
      "root\n",
      " |-- address: struct (nullable = true)\n",
      " |    |-- text: string (nullable = true)\n",
      " |    |-- postalCode: string (nullable = true)\n",
      " |    |-- district: string (nullable = true)\n",
      " |    |-- city: string (nullable = true)\n",
      " |    |-- type: string (nullable = true)\n",
      " |    |-- country: string (nullable = true)\n",
      " |    |-- state: string (nullable = true)\n",
      " |    |-- use: string (nullable = true)\n",
      " |    |-- line: array (nullable = true)\n",
      " |    |    |-- element: string (containsNull = true)\n",
      " |    |-- period: struct (nullable = true)\n",
      " |    |    |-- start: string (nullable = true)\n",
      " |    |-- extension: array (nullable = true)\n",
      " |    |    |-- element: struct (containsNull = true)\n",
      " |    |    |    |-- url: string (nullable = true)\n",
      " |    |    |    |-- extension: array (nullable = true)\n",
      " |    |    |    |    |-- element: struct (containsNull = true)\n",
      " |    |    |    |    |    |-- url: string (nullable = true)\n",
      " |    |    |    |    |    |-- valueDecimal: double (nullable = true)\n",
      "\n"
     ]
    }
   ],
   "source": [
    "df.select('address').printSchema()"
   ]
  },
  {
   "cell_type": "code",
   "execution_count": 26,
   "id": "existing-sessions",
   "metadata": {},
   "outputs": [],
   "source": [
    "loc = locations.toDF()"
   ]
  },
  {
   "cell_type": "code",
   "execution_count": 33,
   "id": "missing-natural",
   "metadata": {},
   "outputs": [],
   "source": [
    "loc = loc.withColumn('address', F.col('address.struct'))"
   ]
  },
  {
   "cell_type": "code",
   "execution_count": 34,
   "id": "prepared-thumbnail",
   "metadata": {},
   "outputs": [
    {
     "name": "stdout",
     "output_type": "stream",
     "text": [
      "root\n",
      " |-- address: struct (nullable = true)\n",
      " |    |-- postalCode: string (nullable = true)\n",
      " |    |-- city: string (nullable = true)\n",
      " |    |-- country: string (nullable = true)\n",
      " |    |-- state: string (nullable = true)\n",
      " |    |-- line: array (nullable = true)\n",
      " |    |    |-- element: string (containsNull = true)\n",
      "\n"
     ]
    }
   ],
   "source": [
    "loc.select('address').printSchema()"
   ]
  },
  {
   "cell_type": "markdown",
   "id": "informed-pastor",
   "metadata": {},
   "source": [
    "Next we need to join the dataframes, keeping only the relevant fields. \n",
    "\n",
    "For this we could use an **left outer-join** on the `loc` dataframe. "
   ]
  },
  {
   "cell_type": "code",
   "execution_count": 48,
   "id": "touched-hacker",
   "metadata": {},
   "outputs": [],
   "source": [
    "# drop irrelevant fields from struct\n",
    "def filter_columns(df, root):\n",
    "    cols = df.select(root).columns\n",
    "    fields = filter(lambda x: x in ['postalCode', 'city', 'country', 'state', 'line'], cols)\n",
    "    kept = list(map(lambda x: root[:-1] + x, fields))\n",
    "    return df.select(kept)\n",
    "\n",
    "\n",
    "other_address = filter_columns(df.select('address'), root='address.*')\n",
    "loc_address = filter_columns(df.select('address'), root='address.*')"
   ]
  },
  {
   "cell_type": "markdown",
   "id": "uniform-brain",
   "metadata": {},
   "source": [
    "We now have the same schema, ready to be combined into one dataframe"
   ]
  },
  {
   "cell_type": "code",
   "execution_count": 49,
   "id": "leading-hollow",
   "metadata": {},
   "outputs": [
    {
     "name": "stdout",
     "output_type": "stream",
     "text": [
      "root\n",
      " |-- postalCode: string (nullable = true)\n",
      " |-- city: string (nullable = true)\n",
      " |-- country: string (nullable = true)\n",
      " |-- state: string (nullable = true)\n",
      " |-- line: array (nullable = true)\n",
      " |    |-- element: string (containsNull = true)\n",
      "\n",
      "root\n",
      " |-- postalCode: string (nullable = true)\n",
      " |-- city: string (nullable = true)\n",
      " |-- country: string (nullable = true)\n",
      " |-- state: string (nullable = true)\n",
      " |-- line: array (nullable = true)\n",
      " |    |-- element: string (containsNull = true)\n",
      "\n"
     ]
    }
   ],
   "source": [
    "other_address.printSchema()\n",
    "\n",
    "loc_address.printSchema()"
   ]
  },
  {
   "cell_type": "code",
   "execution_count": 90,
   "id": "plain-approach",
   "metadata": {},
   "outputs": [],
   "source": [
    "new_df = loc_address.join(other_address, on=['postalCode','city','country','state','line'], how='left_outer')"
   ]
  },
  {
   "cell_type": "code",
   "execution_count": 91,
   "id": "speaking-rotation",
   "metadata": {},
   "outputs": [
    {
     "name": "stdout",
     "output_type": "stream",
     "text": [
      "root\n",
      " |-- postalCode: string (nullable = true)\n",
      " |-- city: string (nullable = true)\n",
      " |-- country: string (nullable = true)\n",
      " |-- state: string (nullable = true)\n",
      " |-- line: array (nullable = true)\n",
      " |    |-- element: string (containsNull = true)\n",
      "\n"
     ]
    }
   ],
   "source": [
    "new_df.printSchema()"
   ]
  },
  {
   "cell_type": "code",
   "execution_count": 92,
   "id": "sporting-encoding",
   "metadata": {},
   "outputs": [],
   "source": [
    "new_df = new_df.drop_duplicates()"
   ]
  },
  {
   "cell_type": "code",
   "execution_count": 93,
   "id": "mathematical-thanksgiving",
   "metadata": {},
   "outputs": [
    {
     "name": "stdout",
     "output_type": "stream",
     "text": [
      "+----------+---------------+-------+--------------+--------------------+\n",
      "|postalCode|           city|country|         state|                line|\n",
      "+----------+---------------+-------+--------------+--------------------+\n",
      "|      CB23|      Cambridge|     GB|Cambridgeshire|[625 Corwin Fort ...|\n",
      "|       CT3|        Preston|     GB|          Kent|[669 Bahringer Mill]|\n",
      "|       SY4|       Shawbury|     GB|    Shropshire|[822 Marquardt An...|\n",
      "|       TF6|          Aston|     GB|    Shropshire|  [252 Lakin Corner]|\n",
      "|       TF9|         Sutton|     GB|    Shropshire|[104 Rempel Light...|\n",
      "|     SY3 5|     Shrewsbury|     GB|    Shropshire|[Mytton Oak Road ...|\n",
      "|     SY8 1|         Ludlow|     GB|    Shropshire|   [Gravel Hill nan]|\n",
      "|       TF9|         Sutton|     GB|    Shropshire|[789 Ferry Arcade...|\n",
      "|       SM7|       Banstead|     GB|        Surrey|[459 Bruen Parade...|\n",
      "|      SY99|     Shrewsbury|     GB|    Shropshire|    [154 Hills Fort]|\n",
      "|      BS41|        Bristol|     GB|      Somerset|     [173 Kub Ville]|\n",
      "|02536-5671|      TEATICKET|     US|            MA|[270 TEATICKET HW...|\n",
      "|      TF10|        Newport|     GB|    Shropshire|[138 Jerde Annex ...|\n",
      "|      SS22|Southend-on-Sea|     GB|         Essex|  [822 Zboncak Glen]|\n",
      "|  LS17 7DF|           null|   null|          null|[4 Sandmoor Drive...|\n",
      "|       SY2|         Sutton|     GB|    Shropshire|  [684 Wyman Divide]|\n",
      "|     SY3 5|     Shrewsbury|     GB|    Shropshire|                null|\n",
      "|       CB6|         Sutton|     GB|Cambridgeshire|[658 Mayer Rue Un...|\n",
      "|      SY15|      Middleton|     GB|    Shropshire|[591 Schumm Junct...|\n",
      "|      TF10|        Newport|     GB|    Shropshire|[581 Kerluke Anne...|\n",
      "+----------+---------------+-------+--------------+--------------------+\n",
      "only showing top 20 rows\n",
      "\n"
     ]
    }
   ],
   "source": [
    "new_df.show()"
   ]
  },
  {
   "cell_type": "code",
   "execution_count": 94,
   "id": "european-texture",
   "metadata": {},
   "outputs": [],
   "source": [
    "df = new_df\n",
    "\n",
    "# care_sites = df.na.drop(subset=[\"type\"])"
   ]
  },
  {
   "cell_type": "markdown",
   "id": "expensive-money",
   "metadata": {},
   "source": [
    "TODO: \n",
    "\n",
    "- [ ] Make identifier based on hash of row\n",
    "- [ ] Transform to CareSite table based on type"
   ]
  },
  {
   "cell_type": "code",
   "execution_count": null,
   "id": "peaceful-welding",
   "metadata": {},
   "outputs": [],
   "source": [
    "df.show()"
   ]
  },
  {
   "cell_type": "code",
   "execution_count": null,
   "id": "indian-hobby",
   "metadata": {},
   "outputs": [],
   "source": [
    "df.printSchema()"
   ]
  },
  {
   "cell_type": "code",
   "execution_count": null,
   "id": "disabled-scale",
   "metadata": {},
   "outputs": [],
   "source": [
    "df = df.withColumn('city', F.col('address.struct.city'))\\\n",
    "       .withColumn('state', F.col('address.struct.state'))\\\n",
    "       .withColumn('zip', F.col('address.struct.postalCode'))\\\n",
    "       .withColumn('country', F.col('address.struct.country'))"
   ]
  },
  {
   "cell_type": "code",
   "execution_count": null,
   "id": "upper-wellington",
   "metadata": {},
   "outputs": [],
   "source": [
    "# df = df.withColumn('exploded', F.explode('address.struct.line'))"
   ]
  },
  {
   "cell_type": "code",
   "execution_count": null,
   "id": "activated-calcium",
   "metadata": {},
   "outputs": [],
   "source": [
    "df = df.withColumn('address_1', F.col('address.struct.line').getItem(0))\n",
    "df = df.withColumn('address_2', F.col('address.struct.line').getItem(1))"
   ]
  },
  {
   "cell_type": "code",
   "execution_count": null,
   "id": "thirty-somerset",
   "metadata": {},
   "outputs": [],
   "source": [
    "df = df.withColumnRenamed('id', 'location_id')"
   ]
  },
  {
   "cell_type": "code",
   "execution_count": null,
   "id": "matched-crowd",
   "metadata": {},
   "outputs": [],
   "source": [
    "df = df.drop(*['address','position','exploded','name','type'])"
   ]
  },
  {
   "cell_type": "code",
   "execution_count": null,
   "id": "induced-charity",
   "metadata": {},
   "outputs": [],
   "source": [
    "df.show()"
   ]
  },
  {
   "cell_type": "code",
   "execution_count": null,
   "id": "dried-newfoundland",
   "metadata": {},
   "outputs": [],
   "source": [
    "locations = DynamicFrame.fromDF(df, glueContext, 'locations')"
   ]
  },
  {
   "cell_type": "code",
   "execution_count": null,
   "id": "separate-calvin",
   "metadata": {},
   "outputs": [],
   "source": []
  }
 ],
 "metadata": {
  "kernelspec": {
   "display_name": "etl",
   "language": "python",
   "name": "etl"
  },
  "language_info": {
   "codemirror_mode": {
    "name": "ipython",
    "version": 3
   },
   "file_extension": ".py",
   "mimetype": "text/x-python",
   "name": "python",
   "nbconvert_exporter": "python",
   "pygments_lexer": "ipython3",
   "version": "3.7.10"
  }
 },
 "nbformat": 4,
 "nbformat_minor": 5
}
