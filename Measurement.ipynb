{
 "cells": [
  {
   "cell_type": "code",
   "execution_count": 1,
   "metadata": {},
   "outputs": [],
   "source": [
    "from pyspark.sql import SparkSession\n",
    "import datetime as dt\n",
    "import pyspark.sql.functions as F\n",
    "spark = SparkSession.builder.appName('etl').getOrCreate()\n",
    "df = spark.read.parquet('data/catalog.parquet')"
   ]
  },
  {
   "cell_type": "markdown",
   "metadata": {},
   "source": [
    "## Measurement-mapping"
   ]
  },
  {
   "cell_type": "markdown",
   "metadata": {},
   "source": [
    "TODO:\n",
    "\n",
    "[X] Rename Columns  \n",
    "[X] Split Datetime  \n",
    "[X] Coalesce value as nums  \n",
    "[X] Combine blood pressure components  \n",
    "[ ] Check all required fields mapped"
   ]
  },
  {
   "cell_type": "code",
   "execution_count": 2,
   "metadata": {},
   "outputs": [],
   "source": [
    "filtered = df.filter(df['resourceType'] == 'Observation')"
   ]
  },
  {
   "cell_type": "code",
   "execution_count": 110,
   "metadata": {},
   "outputs": [
    {
     "name": "stdout",
     "output_type": "stream",
     "text": [
      "root\n",
      " |-- measurement_id: string (nullable = true)\n",
      " |-- measurement_concept_id: string (nullable = true)\n",
      " |-- provider_id: array (nullable = true)\n",
      " |    |-- element: struct (containsNull = true)\n",
      " |    |    |-- reference: string (nullable = true)\n",
      " |    |    |-- display: string (nullable = true)\n",
      " |-- category: array (nullable = true)\n",
      " |    |-- element: struct (containsNull = true)\n",
      " |    |    |-- coding: array (nullable = true)\n",
      " |    |    |    |-- element: struct (containsNull = true)\n",
      " |    |    |    |    |-- system: string (nullable = true)\n",
      " |    |    |    |    |-- code: string (nullable = true)\n",
      " |    |    |    |    |-- display: string (nullable = true)\n",
      " |    |    |-- text: string (nullable = true)\n",
      " |-- measurement_datetime: string (nullable = true)\n",
      " |-- component: array (nullable = true)\n",
      " |    |-- element: struct (containsNull = true)\n",
      " |    |    |-- code: struct (nullable = true)\n",
      " |    |    |    |-- coding: array (nullable = true)\n",
      " |    |    |    |    |-- element: struct (containsNull = true)\n",
      " |    |    |    |    |    |-- system: string (nullable = true)\n",
      " |    |    |    |    |    |-- code: string (nullable = true)\n",
      " |    |    |    |    |    |-- display: string (nullable = true)\n",
      " |    |    |    |-- text: string (nullable = true)\n",
      " |    |    |-- valueQuantity: struct (nullable = true)\n",
      " |    |    |    |-- unit: string (nullable = true)\n",
      " |    |    |    |-- system: string (nullable = true)\n",
      " |    |    |    |-- code: string (nullable = true)\n",
      " |    |    |    |-- value: long (nullable = true)\n",
      " |-- measurement_date: string (nullable = true)\n",
      " |-- person_id: string (nullable = true)\n",
      " |-- measurement_type_concept_id: string (nullable = true)\n",
      " |-- value_as_number: double (nullable = true)\n",
      " |-- visit_occurrence_id: string (nullable = true)\n",
      " |-- unit_source_value: string (nullable = true)\n",
      "\n",
      "+--------------------+----------------------+-----------+--------------------+----------------+--------------------+---------------------------+---------------+--------------------+-----------------+\n",
      "|      measurement_id|measurement_concept_id|provider_id|measurement_datetime|measurement_date|           person_id|measurement_type_concept_id|value_as_number| visit_occurrence_id|unit_source_value|\n",
      "+--------------------+----------------------+-----------+--------------------+----------------+--------------------+---------------------------+---------------+--------------------+-----------------+\n",
      "|3a85e0c5-c469-42c...|                6206-7|       null|2011-12-01T03:37:...|      2011-12-01|urn:uuid:46c99701...|                 laboratory|      [0.13747]|urn:uuid:ef55a399...|             kU/L|\n",
      "+--------------------+----------------------+-----------+--------------------+----------------+--------------------+---------------------------+---------------+--------------------+-----------------+\n",
      "only showing top 1 row\n",
      "\n"
     ]
    }
   ],
   "source": [
    "Measurement = filtered.filter(filtered.valueCodeableConcept.isNull())\n",
    "Observation = filtered.filter(filtered.valueCodeableConcept.isNotNull())\n",
    "Measurement = Measurement.select(['id',\n",
    "                            'subject',\n",
    "                            'code',\n",
    "                            'performer',\n",
    "                            'encounter',\n",
    "                            'meta',\n",
    "                            'category',      \n",
    "                            'valueQuantity',\n",
    "                            'effectiveDateTime',\n",
    "                            'Extension.valueCodeableConcept',\n",
    "                            'component'])\n",
    "\n",
    "\n",
    "split_dates = F.split(Measurement[\"effectiveDateTime\"], 'T')\n",
    "val_as_num = F.coalesce(F.col(\"value_as_number.double\"), F.col(\"value_as_number.long\"))\n",
    "\n",
    "Measurement = Measurement.withColumnRenamed(\"id\", \"measurement_id\")\\\n",
    "                         .withColumn(\"measurement_date\", split_dates.getItem(0))\\\n",
    "                         .withColumn(\"person_id\", Measurement.subject.reference)\\\n",
    "                         .drop(\"subject\")\\\n",
    "                         .withColumnRenamed(\"code\", \"measurement_concept_id\")\\\n",
    "                         .withColumnRenamed(\"effectiveDateTime\", \"measurement_datetime\")\\\n",
    "                         .drop(\"valueCodeableConcept\")\\\n",
    "                         .withColumn(\"measurement_type_concept_id\", Measurement.category.getItem(0).coding.code.getItem(0))\\\n",
    "                         .withColumn(\"value_as_number\", Measurement.valueQuantity.value)\\\n",
    "                         .withColumn(\"visit_occurrence_id\", Measurement.encounter.reference)\\\n",
    "                         .drop(\"encounter\")\\\n",
    "                         .withColumn(\"value_as_number\", val_as_num)\\\n",
    "                         .withColumn(\"unit_source_value\", Measurement.valueQuantity.unit)\\\n",
    "                         .withColumnRenamed(\"performer\", \"provider_id\")\\\n",
    "                         .drop(\"valueQuantity\")\\\n",
    "                         .drop(\"meta\")\n",
    "\n",
    "\n",
    "\n",
    "Measurement = Measurement.withColumn(\"measurement_concept_id\", Measurement.measurement_concept_id.coding.getItem(0).code)\\\n",
    "                       \n",
    "Measurement.printSchema()\n",
    "Measurement = Measurement.withColumn(\"distolic\", Measurement.component.getItem(0).valueQuantity.value)\n",
    "Measurement = Measurement.withColumn(\"systolic\", Measurement.component.getItem(1).valueQuantity.value)\n",
    "Measurement = Measurement.withColumn(\"value_as_num_combine\", F.when(F.col(\"distolic\") >0 ,F.array(\"systolic\", \"distolic\")))\\\n",
    "                         .withColumn(\"value_as_number\", F.array(Measurement.value_as_number))\n",
    "\n",
    "Measurement = Measurement.withColumn(\"value_as_number\", F.coalesce(Measurement.value_as_num_combine, Measurement.value_as_number))\\\n",
    "                         .drop(\"distolic\", \"systolic\", \"value_as_num_combine\", \"component\",\"category\")\n",
    "        \n",
    "\n",
    "#Measurement.toPandas().to_csv(\"measurememts.csv\", header=True)\n",
    "\n",
    "Measurement.show(1)"
   ]
  }
 ],
 "metadata": {
  "kernelspec": {
   "display_name": "etl",
   "language": "python",
   "name": "etl"
  },
  "language_info": {
   "codemirror_mode": {
    "name": "ipython",
    "version": 3
   },
   "file_extension": ".py",
   "mimetype": "text/x-python",
   "name": "python",
   "nbconvert_exporter": "python",
   "pygments_lexer": "ipython3",
   "version": "3.8.5"
  }
 },
 "nbformat": 4,
 "nbformat_minor": 4
}
