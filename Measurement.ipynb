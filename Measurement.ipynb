{
 "cells": [
  {
   "cell_type": "code",
   "execution_count": 177,
   "metadata": {},
   "outputs": [],
   "source": [
    "from pyspark.sql import SparkSession\n",
    "import datetime as dt\n",
    "import pyspark.sql.functions\n",
    "spark = SparkSession.builder.appName('etl').getOrCreate()\n",
    "df = spark.read.parquet('data/catalog.parquet')"
   ]
  },
  {
   "cell_type": "markdown",
   "metadata": {},
   "source": [
    "## Measurement & Observation mapping"
   ]
  },
  {
   "cell_type": "code",
   "execution_count": 178,
   "metadata": {},
   "outputs": [],
   "source": [
    "filtered = df.filter(df['resourceType'] == 'Observation')"
   ]
  },
  {
   "cell_type": "code",
   "execution_count": 179,
   "metadata": {},
   "outputs": [],
   "source": [
    "Measurement = filtered.filter(filtered.valueCodeableConcept.isNull())\n",
    "Observation = filtered.filter(filtered.valueCodeableConcept.isNotNull())\n",
    "\n",
    "Measurement = filtered.select(['id',\n",
    "                            'subject',\n",
    "                            'code',\n",
    "                            'performer',\n",
    "                            'encounter',\n",
    "                            'meta',\n",
    "                            'valueQuantity',\n",
    "                            'effectiveDateTime',\n",
    "                            'Extension.valueCodeableConcept'])\n",
    "\n",
    "#Measurement.toPandas().to_csv(\"dfdfa.csv\", header=True)"
   ]
  },
  {
   "cell_type": "markdown",
   "metadata": {},
   "source": [
    " #### TODO\n",
    "[x] Split into Observation/Measurement :\n",
    "   * Measurements have valueQuantity     \n",
    "   * Observations (should) have valueString\n",
    "     \n",
    "     \n",
    "[] Rename Columns"
   ]
  },
  {
   "cell_type": "code",
   "execution_count": 180,
   "metadata": {},
   "outputs": [
    {
     "name": "stdout",
     "output_type": "stream",
     "text": [
      "+--------------------+--------------------+----------------------+-----------+--------------------+--------------------+--------------------+----------------+---------------+-----------------+\n",
      "|      measurement_id|           person_id|measurement_concept_id|provider_id| visit_occurrence_id|                meta|measurement_datetime|measurement_date|value_as_number|unit_source_value|\n",
      "+--------------------+--------------------+----------------------+-----------+--------------------+--------------------+--------------------+----------------+---------------+-----------------+\n",
      "|3a85e0c5-c469-42c...|{urn:uuid:46c9970...|  {[{http://loinc.o...|       null|{urn:uuid:ef55a39...|{2020-12-15T20:38...|2011-12-01T03:37:...|      2011-12-01|{0.13747, null}|             kU/L|\n",
      "+--------------------+--------------------+----------------------+-----------+--------------------+--------------------+--------------------+----------------+---------------+-----------------+\n",
      "only showing top 1 row\n",
      "\n"
     ]
    }
   ],
   "source": [
    "split_col = pyspark.sql.functions.split(Measurement[\"effectiveDateTime\"], 'T')\n",
    "\n",
    "Measurement = Measurement.withColumnRenamed(\"id\", \"measurement_id\")\\\n",
    "                                .withColumn(\"measurement_date\", split_col.getItem(0))\\\n",
    "                                .withColumnRenamed(\"subject\", \"person_id\")\\\n",
    "                                .withColumnRenamed(\"code\", \"measurement_concept_id\")\\\n",
    "                                .withColumnRenamed(\"effectiveDateTime\", \"measurement_datetime\")\\\n",
    "                                .drop(\"valueCodeableConcept\")\\\n",
    "                                .withColumnRenamed(\"category\", \"measurement_type_concept_id\")\\\n",
    "                                .withColumn(\"value_as_number\", Measurement.valueQuantity.value)\\\n",
    "                                .withColumnRenamed(\"encounter\", \"visit_occurrence_id\")\\\n",
    "                                .withColumn(\"unit_source_value\", Measurement.valueQuantity.unit)\\\n",
    "                                .withColumnRenamed(\"performer\", \"provider_id\")\\\n",
    "                                .drop(\"valueQuantity\")\n",
    "\n",
    "\n",
    "# Measurement.toPandas().to_csv(\"measurememts.csv\", header=True)\n",
    "\n",
    "Measurement.show(1)"
   ]
  }
 ],
 "metadata": {
  "kernelspec": {
   "display_name": "etl",
   "language": "python",
   "name": "etl"
  },
  "language_info": {
   "codemirror_mode": {
    "name": "ipython",
    "version": 3
   },
   "file_extension": ".py",
   "mimetype": "text/x-python",
   "name": "python",
   "nbconvert_exporter": "python",
   "pygments_lexer": "ipython3",
   "version": "3.8.5"
  }
 },
 "nbformat": 4,
 "nbformat_minor": 4
}
