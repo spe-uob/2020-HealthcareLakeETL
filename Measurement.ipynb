{
 "cells": [
  {
   "cell_type": "code",
   "execution_count": 68,
   "metadata": {},
   "outputs": [],
   "source": [
    "from pyspark.sql import SparkSession\n",
    "import datetime as dt\n",
    "import pyspark.sql.functions as F\n",
    "spark = SparkSession.builder.appName('etl').getOrCreate()\n",
    "df = spark.read.parquet('data/catalog.parquet')"
   ]
  },
  {
   "cell_type": "markdown",
   "metadata": {},
   "source": [
    "## Measurement-mapping"
   ]
  },
  {
   "cell_type": "markdown",
   "metadata": {},
   "source": [
    "TODO:\n",
    "\n",
    "[X] Rename Columns  \n",
    "[X] Split Datetime  \n",
    "[ ] Combine blood pressure components  \n",
    "[ ] Check all required fields mapped"
   ]
  },
  {
   "cell_type": "code",
   "execution_count": 95,
   "metadata": {},
   "outputs": [],
   "source": [
    "filtered = df.filter(df['resourceType'] == 'Observation')"
   ]
  },
  {
   "cell_type": "code",
   "execution_count": 99,
   "metadata": {},
   "outputs": [
    {
     "name": "stdout",
     "output_type": "stream",
     "text": [
      "+--------------------+----------------------+-----------+--------------------+--------------------+---------+----------------+----------------+--------------------+---------------+--------------------+-----------------+\n",
      "|      measurement_id|measurement_concept_id|provider_id|                meta|measurement_datetime|component|valueQuantityNew|measurement_date|           person_id|value_as_number| visit_occurrence_id|unit_source_value|\n",
      "+--------------------+----------------------+-----------+--------------------+--------------------+---------+----------------+----------------+--------------------+---------------+--------------------+-----------------+\n",
      "|3a85e0c5-c469-42c...|  {[{http://loinc.o...|       null|{2020-12-15T20:38...|2011-12-01T03:37:...|     null|            null|      2011-12-01|urn:uuid:46c99701...|{0.13747, null}|urn:uuid:ef55a399...|             kU/L|\n",
      "+--------------------+----------------------+-----------+--------------------+--------------------+---------+----------------+----------------+--------------------+---------------+--------------------+-----------------+\n",
      "only showing top 1 row\n",
      "\n"
     ]
    }
   ],
   "source": [
    "Measurement = filtered.filter(filtered.valueCodeableConcept.isNull())\n",
    "Observation = filtered.filter(filtered.valueCodeableConcept.isNotNull())\n",
    "Measurement = Measurement.select(['id',\n",
    "                            'subject',\n",
    "                            'code',\n",
    "                            'performer',\n",
    "                            'encounter',\n",
    "                            'meta',\n",
    "                            'valueQuantity',\n",
    "                            'effectiveDateTime',\n",
    "                            'Extension.valueCodeableConcept',\n",
    "                            'component'])\n",
    "#Measurement.printSchema()\n",
    "#Measurement.toPandas().to_csv(\"dfdfa.csv\", header=True)\n",
    "\n",
    "##################\n",
    "\n",
    "\n",
    "split_dates = F.split(Measurement[\"effectiveDateTime\"], 'T')\n",
    "\n",
    "combined_blood_pressures = F.coalesce(Measurement.component.getItem(0).valueQuantity, Measurement.component.getItem(1).valueQuantity)\n",
    "\n",
    "\n",
    " #      .withColumn(\"valueQuantity\", combined_blood_pressures)\\\n",
    "Measurement = Measurement.withColumnRenamed(\"id\", \"measurement_id\")\\\n",
    "                         .withColumn(\"valueQuantityNew\", combined_blood_pressures)\\\n",
    "                         .withColumn(\"measurement_date\", split_dates.getItem(0))\\\n",
    "                         .withColumn(\"person_id\", Measurement.subject.reference)\\\n",
    "                         .drop(\"subject\")\\\n",
    "                         .withColumnRenamed(\"code\", \"measurement_concept_id\")\\\n",
    "                         .withColumnRenamed(\"effectiveDateTime\", \"measurement_datetime\")\\\n",
    "                         .drop(\"valueCodeableConcept\")\\\n",
    "                         .withColumnRenamed(\"category\", \"measurement_type_concept_id\")\\\n",
    "                         .withColumn(\"value_as_number\", Measurement.valueQuantity.value)\\\n",
    "                         .withColumn(\"visit_occurrence_id\", Measurement.encounter.reference)\\\n",
    "                         .drop(\"encounter\")\\\n",
    "                         .withColumn(\"unit_source_value\", Measurement.valueQuantity.unit)\\\n",
    "                         .withColumnRenamed(\"performer\", \"provider_id\")\\\n",
    "                         .drop(\"valueQuantity\")\n",
    "\n",
    "\n",
    "Measurement.toPandas().to_csv(\"measurememts.csv\", header=True)\n",
    "\n",
    "Measurement.show(1)"
   ]
  }
 ],
 "metadata": {
  "kernelspec": {
   "display_name": "etl",
   "language": "python",
   "name": "etl"
  },
  "language_info": {
   "codemirror_mode": {
    "name": "ipython",
    "version": 3
   },
   "file_extension": ".py",
   "mimetype": "text/x-python",
   "name": "python",
   "nbconvert_exporter": "python",
   "pygments_lexer": "ipython3",
   "version": "3.8.5"
  }
 },
 "nbformat": 4,
 "nbformat_minor": 4
}
