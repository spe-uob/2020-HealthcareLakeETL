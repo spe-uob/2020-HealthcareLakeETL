{
 "cells": [
  {
   "cell_type": "code",
   "execution_count": 63,
   "metadata": {},
   "outputs": [
    {
     "name": "stdout",
     "output_type": "stream",
     "text": [
      "root\n",
      " |-- observation_id: string (nullable = true)\n",
      " |-- observation_concept_id: struct (nullable = true)\n",
      " |    |-- coding: array (nullable = true)\n",
      " |    |    |-- element: struct (containsNull = true)\n",
      " |    |    |    |-- system: string (nullable = true)\n",
      " |    |    |    |-- code: string (nullable = true)\n",
      " |    |    |    |-- display: string (nullable = true)\n",
      " |    |-- text: string (nullable = true)\n",
      " |-- provider_id: array (nullable = true)\n",
      " |    |-- element: struct (containsNull = true)\n",
      " |    |    |-- reference: string (nullable = true)\n",
      " |    |    |-- display: string (nullable = true)\n",
      " |-- measurement_datetime: string (nullable = true)\n",
      " |-- category: array (nullable = true)\n",
      " |    |-- element: struct (containsNull = true)\n",
      " |    |    |-- coding: array (nullable = true)\n",
      " |    |    |    |-- element: struct (containsNull = true)\n",
      " |    |    |    |    |-- system: string (nullable = true)\n",
      " |    |    |    |    |-- code: string (nullable = true)\n",
      " |    |    |    |    |-- display: string (nullable = true)\n",
      " |    |    |-- text: string (nullable = true)\n",
      " |-- observation_type_concept_id.coding: array (nullable = true)\n",
      " |    |-- element: array (containsNull = true)\n",
      " |    |    |-- element: struct (containsNull = true)\n",
      " |    |    |    |-- system: string (nullable = true)\n",
      " |    |    |    |-- code: string (nullable = true)\n",
      " |    |    |    |-- display: string (nullable = true)\n",
      " |-- observation_date: string (nullable = true)\n",
      " |-- person_id: string (nullable = true)\n",
      " |-- value_as_string: string (nullable = true)\n",
      " |-- visit_occurrence_id: string (nullable = true)\n",
      "\n"
     ]
    }
   ],
   "source": [
    "from pyspark.sql import SparkSession\n",
    "import datetime as dt\n",
    "import pyspark.sql.functions as F\n",
    "spark = SparkSession.builder.appName('etl').getOrCreate()\n",
    "df = spark.read.parquet('data/catalog.parquet')\n",
    "\n",
    "filtered = df.filter(df['resourceType'] == 'Observation')\n",
    "Observation = filtered.filter(filtered.valueCodeableConcept.isNotNull())\n",
    "\n",
    "Observation = Observation.select(['id',\n",
    "                            'subject',\n",
    "                            'code',\n",
    "                            'performer',\n",
    "                            'encounter',\n",
    "                            'meta',\n",
    "                            'effectiveDateTime',\n",
    "                            'valueCodeableConcept',\n",
    "                            'category'])\n",
    "\n",
    "split_dates = F.split(Observation[\"effectiveDateTime\"], 'T')\n",
    "\n",
    "Observation = Observation.withColumnRenamed(\"id\", \"observation_id\")\\\n",
    "                         .withColumn(\"observation_type_concept_id.coding\", Observation.category.coding)\\\n",
    "                         .withColumn(\"observation_date\", split_dates.getItem(0))\\\n",
    "                         .withColumn(\"person_id\", Observation.subject.reference)\\\n",
    "                         .withColumn(\"value_as_string\", Observation.valueCodeableConcept.text)\\\n",
    "                         .withColumnRenamed(\"code\", \"observation_concept_id\")\\\n",
    "                         .withColumnRenamed(\"effectiveDateTime\", \"measurement_datetime\")\\\n",
    "                         .drop(\"valueCodeableConcept\")\\\n",
    "                         .withColumn(\"visit_occurrence_id\", Observation.encounter.reference)\\\n",
    "                         .withColumnRenamed(\"performer\", \"provider_id\")\\\n",
    "                         .drop(\"encounter\")\\\n",
    "                         .drop(\"subject\")\\\n",
    "                         .drop(\"meta\")\n",
    "Observation.printSchema()\n",
    "Observation.toPandas().to_csv(\"obs.csv\", header=True)"
   ]
  },
  {
   "cell_type": "code",
   "execution_count": null,
   "metadata": {},
   "outputs": [],
   "source": []
  }
 ],
 "metadata": {
  "kernelspec": {
   "display_name": "Python 3",
   "language": "python",
   "name": "python3"
  },
  "language_info": {
   "codemirror_mode": {
    "name": "ipython",
    "version": 3
   },
   "file_extension": ".py",
   "mimetype": "text/x-python",
   "name": "python",
   "nbconvert_exporter": "python",
   "pygments_lexer": "ipython3",
   "version": "3.8.5"
  }
 },
 "nbformat": 4,
 "nbformat_minor": 4
}
