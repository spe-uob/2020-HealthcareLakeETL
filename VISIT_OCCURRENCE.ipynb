{
 "cells": [
  {
   "cell_type": "markdown",
   "id": "facial-wyoming",
   "metadata": {},
   "source": [
    "## Vist Occurance Table Mapping\n",
    "\n",
    "This is an attempt at mapping FHIR to OMOP using the following guide: https://build.fhir.org/ig/HL7/cdmh/profiles.html#omop-to-fhir-mappings\n",
    "<br>In this notebook we are mapping FHIR to the OMOP Encounter Table"
   ]
  },
  {
   "cell_type": "markdown",
   "id": "express-citizen",
   "metadata": {},
   "source": [
    "### Load Data Frame from Parquet Catalog File"
   ]
  },
  {
   "cell_type": "code",
   "execution_count": 45,
   "id": "automotive-dubai",
   "metadata": {},
   "outputs": [],
   "source": [
    "from pyspark.sql import SparkSession\n",
    "from pyspark.sql.functions import dayofmonth,month,year,to_date,trunc,split,explode,array\n",
    "\n",
    "# Create a local Spark session\n",
    "spark = SparkSession.builder.appName('etl').getOrCreate()"
   ]
  },
  {
   "cell_type": "code",
   "execution_count": 46,
   "id": "further-equivalent",
   "metadata": {},
   "outputs": [],
   "source": [
    "# Reads file \n",
    "df = spark.read.parquet('data/catalog.parquet')"
   ]
  },
  {
   "cell_type": "markdown",
   "id": "muslim-avatar",
   "metadata": {},
   "source": [
    "Data Frame schema "
   ]
  },
  {
   "cell_type": "code",
   "execution_count": 47,
   "id": "furnished-residence",
   "metadata": {},
   "outputs": [],
   "source": [
    "#df.printSchema()"
   ]
  },
  {
   "cell_type": "markdown",
   "id": "extra-channels",
   "metadata": {},
   "source": [
    "### Encounter Mapping "
   ]
  },
  {
   "cell_type": "markdown",
   "id": "fatal-confirmation",
   "metadata": {},
   "source": [
    "Filter By Encounter Resource type "
   ]
  },
  {
   "cell_type": "code",
   "execution_count": 48,
   "id": "undefined-building",
   "metadata": {},
   "outputs": [],
   "source": [
    "filtered = df.filter(df['resourceType'] == 'Encounter')"
   ]
  },
  {
   "cell_type": "code",
   "execution_count": 49,
   "id": "qualified-principal",
   "metadata": {},
   "outputs": [],
   "source": [
    "#filtered.show(20)"
   ]
  },
  {
   "cell_type": "markdown",
   "id": "distinct-hydrogen",
   "metadata": {},
   "source": [
    "Selects relevant fields "
   ]
  },
  {
   "cell_type": "code",
   "execution_count": 51,
   "id": "sublime-reach",
   "metadata": {},
   "outputs": [],
   "source": [
    "Encounter = filtered.select(['id','subject','type',\n",
    "                              'location','hospitalization.admitSource',\n",
    "                              'period','extension'])\n",
    "#Encounter.printSchema()"
   ]
  },
  {
   "cell_type": "markdown",
   "id": "marine-editing",
   "metadata": {},
   "source": [
    "Explode the location structure to form the fields \"care_site_id\" and \"discharge_to_concept_id\" <br> TODO: Find the correct origin field"
   ]
  },
  {
   "cell_type": "code",
   "execution_count": 52,
   "id": "racial-functionality",
   "metadata": {},
   "outputs": [],
   "source": [
    "#Encounter.withColumn(\"care_site_id\", \"location.location\")))\\\n",
    "#    .withColumn(\"discharge_to_concept_id\", explode(array(\"location.physicalType\")))\\\n",
    "#    .show(10)"
   ]
  },
  {
   "cell_type": "markdown",
   "id": "crude-royal",
   "metadata": {},
   "source": [
    "Extract the start and end date along with the time from the period field."
   ]
  },
  {
   "cell_type": "code",
   "execution_count": 53,
   "id": "ultimate-investigator",
   "metadata": {},
   "outputs": [],
   "source": [
    "#splits the date and time\n",
    "split_start = split(Encounter['period.start'], 'T')\n",
    "split_end = split(Encounter['period.end'], 'T') \n",
    "\n",
    "#assigns each to a column \n",
    "vist_date_time = Encounter\\\n",
    "    .withColumn(\"visit_start_date\",split_start.getItem(0))\\\n",
    "    .withColumn(\"visit_start_datetime\",split_start.getItem(1))\\\n",
    "    .withColumn(\"visit_end_date\",split_end.getItem(0))\\\n",
    "    .withColumn(\"visit_end_datetime\",split_end.getItem(1))"
   ]
  },
  {
   "cell_type": "markdown",
   "id": "million-transition",
   "metadata": {},
   "source": [
    "Drop columns no longer needed"
   ]
  },
  {
   "cell_type": "code",
   "execution_count": 54,
   "id": "under-blanket",
   "metadata": {},
   "outputs": [],
   "source": [
    "dropped  = vist_date_time.drop(\"period\")"
   ]
  },
  {
   "cell_type": "markdown",
   "id": "potential-consciousness",
   "metadata": {},
   "source": [
    "Rename the columns "
   ]
  },
  {
   "cell_type": "code",
   "execution_count": 55,
   "id": "beginning-lighting",
   "metadata": {},
   "outputs": [],
   "source": [
    "visit_occurnace = dropped\\\n",
    "    .withColumnRenamed(\"type\",\"preceding_visit_occurence\")\\\n",
    "    .withColumnRenamed(\"id\",\"visit_occurence_id\")\\\n",
    "    .withColumnRenamed(\"admitSource\",\"admitting_source_concept_id\")\\\n",
    "    .withColumnRenamed(\"subject\",\"person_id\")\\\n",
    "    .withColumnRenamed(\"type\",\"preceding_visit_occurence\")\\\n",
    "    .withColumnRenamed(\"extension\",\"visit_type_concept_id\")\n",
    "\n",
    "#.withColumnRenamed(\"location.location.id\",\"care_site_id\")\\    \n",
    "#.withColumnRenamed(\"location.location.type\",\"discharge_to_concept_id\")\\"
   ]
  },
  {
   "cell_type": "markdown",
   "id": "female-hardware",
   "metadata": {},
   "source": [
    "Shows mapped output table"
   ]
  },
  {
   "cell_type": "code",
   "execution_count": 56,
   "id": "liable-petite",
   "metadata": {},
   "outputs": [
    {
     "name": "stdout",
     "output_type": "stream",
     "text": [
      "+--------------------+--------------------+-------------------------+--------------------+---------------------------+---------------------+----------------+--------------------+--------------+------------------+\n",
      "|  visit_occurence_id|           person_id|preceding_visit_occurence|            location|admitting_source_concept_id|visit_type_concept_id|visit_start_date|visit_start_datetime|visit_end_date|visit_end_datetime|\n",
      "+--------------------+--------------------+-------------------------+--------------------+---------------------------+---------------------+----------------+--------------------+--------------+------------------+\n",
      "|a3d6098b-0af4-4d9...|{urn:uuid:f245361...|     {[{[{http://snome...|                null|                       null|                 null|      2016-09-04|      02:36:34-12:00|    2016-09-04|    02:51:34-12:00|\n",
      "|c420368d-3336-44a...|{urn:uuid:46c9970...|     {[{[{http://snome...|{[{{Location?iden...|                       null|                 null|      2011-03-23|      20:41:57+02:00|    2011-03-23|    21:33:57+02:00|\n",
      "|5fe41249-3193-4f4...|{urn:uuid:3ba0e01...|     {[{[{http://snome...|                null|                       null|                 null|      2020-03-22|      19:32:05+02:00|    2020-03-22|    19:47:05+02:00|\n",
      "|aa911c12-6950-40e...|{urn:uuid:193682a...|     {[{[{http://snome...|                null|                       null|                 null|      2018-06-12|      02:43:25-12:00|    2018-06-12|    02:58:25-12:00|\n",
      "|df0107b5-e588-49f...|{urn:uuid:ce95a00...|     {[{[{http://snome...|                null|                       null|                 null|      2010-10-13|      22:42:53-12:00|    2010-10-13|    22:57:53-12:00|\n",
      "+--------------------+--------------------+-------------------------+--------------------+---------------------------+---------------------+----------------+--------------------+--------------+------------------+\n",
      "only showing top 5 rows\n",
      "\n"
     ]
    }
   ],
   "source": [
    "visit_occurnace.show(5) "
   ]
  }
 ],
 "metadata": {
  "kernelspec": {
   "display_name": "etl",
   "language": "python",
   "name": "etl"
  },
  "language_info": {
   "codemirror_mode": {
    "name": "ipython",
    "version": 3
   },
   "file_extension": ".py",
   "mimetype": "text/x-python",
   "name": "python",
   "nbconvert_exporter": "python",
   "pygments_lexer": "ipython3",
   "version": "3.9.2"
  }
 },
 "nbformat": 4,
 "nbformat_minor": 5
}
