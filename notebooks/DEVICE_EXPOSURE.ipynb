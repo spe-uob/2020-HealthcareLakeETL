{
 "cells": [
  {
   "cell_type": "markdown",
   "id": "facial-wyoming",
   "metadata": {},
   "source": [
    "## Device Exposure Table Mapping\n",
    "\n",
    "This is an attempt at mapping FHIR to OMOP using the following guide: https://build.fhir.org/ig/HL7/cdmh/profiles.html#omop-to-fhir-mappings\n",
    "<br>In this notebook we are mapping FHIR to the OMOP Device Exposure Table"
   ]
  },
  {
   "cell_type": "markdown",
   "id": "express-citizen",
   "metadata": {},
   "source": [
    "### Load Data Frame from Parquet Catalog File"
   ]
  },
  {
   "cell_type": "code",
   "execution_count": 22,
   "id": "automotive-dubai",
   "metadata": {},
   "outputs": [],
   "source": [
    "from pyspark.sql import SparkSession\n",
    "from pyspark.sql.functions import dayofmonth,month,year,to_date,trunc,split,explode,array,col\n",
    "\n",
    "# Create a local Spark session\n",
    "spark = SparkSession.builder.appName('etl').getOrCreate()"
   ]
  },
  {
   "cell_type": "code",
   "execution_count": 23,
   "id": "further-equivalent",
   "metadata": {},
   "outputs": [],
   "source": [
    "# Reads file \n",
    "df = spark.read.parquet('data/catalog.parquet')"
   ]
  },
  {
   "cell_type": "markdown",
   "id": "muslim-avatar",
   "metadata": {},
   "source": [
    "Data frame schema "
   ]
  },
  {
   "cell_type": "code",
   "execution_count": 24,
   "id": "furnished-residence",
   "metadata": {},
   "outputs": [],
   "source": [
    "#df.printSchema()"
   ]
  },
  {
   "cell_type": "markdown",
   "id": "extra-channels",
   "metadata": {},
   "source": [
    "### Procedure Mapping "
   ]
  },
  {
   "cell_type": "markdown",
   "id": "fatal-confirmation",
   "metadata": {},
   "source": [
    "Filter By procedure resource type "
   ]
  },
  {
   "cell_type": "code",
   "execution_count": 25,
   "id": "undefined-building",
   "metadata": {},
   "outputs": [],
   "source": [
    "filtered = df.filter(df['resourceType'] == 'Procedure')"
   ]
  },
  {
   "cell_type": "code",
   "execution_count": 26,
   "id": "qualified-principal",
   "metadata": {},
   "outputs": [],
   "source": [
    "#filtered.printSchema()"
   ]
  },
  {
   "cell_type": "markdown",
   "id": "distinct-hydrogen",
   "metadata": {},
   "source": [
    "Selects relevant fields. Using alias so we don't have columns with the same name"
   ]
  },
  {
   "cell_type": "code",
   "execution_count": 39,
   "id": "sublime-reach",
   "metadata": {},
   "outputs": [],
   "source": [
    "Procedure = filtered.select(\"id\",\n",
    "  col(\"encounter.reference\").alias(\"visit_occurrence_id\"),\n",
    "  col(\"subject.reference\").alias(\"person_id\"),\n",
    "  \"performedPeriod\",\n",
    "  #\"focalDevice\",\n",
    "  \"performedPeriod\",\n",
    "  \"performer\",\n",
    "  \"extension.valueCodeableConcept\")"
   ]
  },
  {
   "cell_type": "markdown",
   "id": "crude-royal",
   "metadata": {},
   "source": [
    "Extract the start date and time from the period field."
   ]
  },
  {
   "cell_type": "code",
   "execution_count": 35,
   "id": "ultimate-investigator",
   "metadata": {},
   "outputs": [],
   "source": [
    "#splits the date and time\n",
    "split_start = split(Procedure['performedPeriod.start'], 'T')\n",
    "split_end = split(Procedure['performedPeriod.end'], 'T')\n",
    "\n",
    "#assigns each to a column \n",
    "procedure_date_and_time = Procedure\\\n",
    "    .withColumn(\"device_exposure_start_date\",split_start.getItem(0))\\\n",
    "    .withColumn(\"device_exposure_start_datetime\",split_start.getItem(1))\\\n",
    "    .withColumn(\"device_exposure_end_date\",split_end.getItem(0))\\\n",
    "    .withColumn(\"device_exposure_end_datetime\",split_end.getItem(1))\n"
   ]
  },
  {
   "cell_type": "markdown",
   "id": "million-transition",
   "metadata": {},
   "source": [
    "Drop columns no longer needed"
   ]
  },
  {
   "cell_type": "code",
   "execution_count": 40,
   "id": "under-blanket",
   "metadata": {},
   "outputs": [],
   "source": [
    "dropped  = procedure_date_and_time.drop(\"performedPeriod\")"
   ]
  },
  {
   "cell_type": "markdown",
   "id": "potential-consciousness",
   "metadata": {},
   "source": [
    "Rename the columns "
   ]
  },
  {
   "cell_type": "code",
   "execution_count": 41,
   "id": "beginning-lighting",
   "metadata": {},
   "outputs": [],
   "source": [
    "device_exposure = dropped\\\n",
    "    .withColumnRenamed(\"id\",\"device_exposure_id\")\\\n",
    "    .withColumnRenamed(\"valueCodeableConcept\",\"device_type_concept_id\")\\\n",
    "    .withColumnRenamed(\"performer\",\"provider_id\")"
   ]
  },
  {
   "cell_type": "markdown",
   "id": "female-hardware",
   "metadata": {},
   "source": [
    "Shows mapped output table"
   ]
  },
  {
   "cell_type": "code",
   "execution_count": 42,
   "id": "liable-petite",
   "metadata": {},
   "outputs": [
    {
     "name": "stdout",
     "output_type": "stream",
     "text": [
      "+--------------------+--------------------+--------------------+-----------+------+--------------------------+------------------------------+------------------------+----------------------------+\n",
      "|  device_exposure_id| visit_occurrence_id|           person_id|provider_id|coding|device_exposure_start_date|device_exposure_start_datetime|device_exposure_end_date|device_exposure_end_datetime|\n",
      "+--------------------+--------------------+--------------------+-----------+------+--------------------------+------------------------------+------------------------+----------------------------+\n",
      "|0ab70f34-43d4-4ae...|urn:uuid:fc7e46e8...|urn:uuid:46c99701...|       null|  null|                2011-05-04|                23:11:57+03:00|              2011-05-04|              23:30:57+03:00|\n",
      "|856dafba-7be8-461...|urn:uuid:cc07345b...|urn:uuid:46c99701...|       null|  null|                2011-07-07|                00:32:57+03:00|              2011-07-07|              00:55:57+03:00|\n",
      "|7027cb03-ed07-41c...|urn:uuid:b1bdbe89...|urn:uuid:46c99701...|       null|  null|                2011-09-08|                01:50:57+03:00|              2011-09-08|              02:38:57+03:00|\n",
      "|42f567f9-8ad7-4b8...|urn:uuid:81a3f4c5...|urn:uuid:46c99701...|       null|  null|                2011-03-23|                20:41:57+02:00|              2011-03-23|              21:33:57+02:00|\n",
      "|db4df8a4-84aa-4d0...|urn:uuid:af891965...|urn:uuid:6acefca1...|       null|  null|                2017-04-11|                10:28:24-12:00|              2017-04-11|              10:43:24-12:00|\n",
      "+--------------------+--------------------+--------------------+-----------+------+--------------------------+------------------------------+------------------------+----------------------------+\n",
      "only showing top 5 rows\n",
      "\n"
     ]
    }
   ],
   "source": [
    "device_exposure.show(5) "
   ]
  }
 ],
 "metadata": {
  "kernelspec": {
   "display_name": "etl",
   "language": "python",
   "name": "etl"
  },
  "language_info": {
   "codemirror_mode": {
    "name": "ipython",
    "version": 3
   },
   "file_extension": ".py",
   "mimetype": "text/x-python",
   "name": "python",
   "nbconvert_exporter": "python",
   "pygments_lexer": "ipython3",
   "version": "3.9.2"
  }
 },
 "nbformat": 4,
 "nbformat_minor": 5
}
