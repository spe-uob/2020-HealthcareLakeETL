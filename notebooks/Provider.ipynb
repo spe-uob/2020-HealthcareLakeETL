{
 "cells": [
  {
   "cell_type": "markdown",
   "id": "facial-wyoming",
   "metadata": {},
   "source": [
    "## Provider Table Mapping\n",
    "\n",
    "This is an attempt at mapping FHIR to OMOP using the following guide: https://build.fhir.org/ig/HL7/cdmh/profiles.html#omop-to-fhir-mappings\n",
    "<br>In this notebook we are mapping FHIR to the OMOP Provider Table"
   ]
  },
  {
   "cell_type": "markdown",
   "id": "express-citizen",
   "metadata": {},
   "source": [
    "### Load Data Frame from Parquet Catalog File"
   ]
  },
  {
   "cell_type": "code",
   "execution_count": 1,
   "id": "automotive-dubai",
   "metadata": {},
   "outputs": [],
   "source": [
    "from pyspark.sql import SparkSession\n",
    "from pyspark.sql.functions import dayofmonth,month,year,to_date,trunc,split,explode,array\n",
    "\n",
    "# Create a local Spark session\n",
    "spark = SparkSession.builder.appName('etl').getOrCreate()"
   ]
  },
  {
   "cell_type": "code",
   "execution_count": 2,
   "id": "further-equivalent",
   "metadata": {},
   "outputs": [],
   "source": [
    "# Reads file \n",
    "df = spark.read.parquet('data/catalog.parquet')"
   ]
  },
  {
   "cell_type": "markdown",
   "id": "muslim-avatar",
   "metadata": {},
   "source": [
    "Data Frame schema "
   ]
  },
  {
   "cell_type": "code",
   "execution_count": 47,
   "id": "furnished-residence",
   "metadata": {},
   "outputs": [],
   "source": [
    "#df.printSchema()"
   ]
  },
  {
   "cell_type": "markdown",
   "id": "extra-channels",
   "metadata": {},
   "source": [
    "### Practitioner Mapping "
   ]
  },
  {
   "cell_type": "markdown",
   "id": "fatal-confirmation",
   "metadata": {},
   "source": [
    "Filter By Practitioner Resource type "
   ]
  },
  {
   "cell_type": "code",
   "execution_count": 3,
   "id": "undefined-building",
   "metadata": {},
   "outputs": [],
   "source": [
    "filtered = df.filter(df['resourceType'] == 'Practitioner')"
   ]
  },
  {
   "cell_type": "code",
   "execution_count": 1,
   "id": "qualified-principal",
   "metadata": {},
   "outputs": [],
   "source": [
    "#filtered.printSchema()"
   ]
  }
 ],
 "metadata": {
  "kernelspec": {
   "display_name": "etl",
   "language": "python",
   "name": "etl"
  },
  "language_info": {
   "codemirror_mode": {
    "name": "ipython",
    "version": 3
   },
   "file_extension": ".py",
   "mimetype": "text/x-python",
   "name": "python",
   "nbconvert_exporter": "python",
   "pygments_lexer": "ipython3",
   "version": "3.9.2"
  }
 },
 "nbformat": 4,
 "nbformat_minor": 5
}
