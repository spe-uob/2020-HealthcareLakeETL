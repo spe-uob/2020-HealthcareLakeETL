{
 "cells": [
  {
   "cell_type": "markdown",
   "id": "facial-wyoming",
   "metadata": {},
   "source": [
    "## Vist Occurance Table Mapping\n",
    "\n",
    "This is an attempt at mapping FHIR to OMOP using the following guide: https://build.fhir.org/ig/HL7/cdmh/profiles.html#omop-to-fhir-mappings\n",
    "<br>In this notebook we are mapping FHIR to the OMOP Vist Occurance Table\n",
    "<br><br><b>TODO</b>: find the correct mapping for the fields \"care_site_id\" and \"discharge_to_concept_id\""
   ]
  },
  {
   "cell_type": "markdown",
   "id": "express-citizen",
   "metadata": {},
   "source": [
    "### Load Data Frame from Parquet Catalog File"
   ]
  },
  {
   "cell_type": "code",
   "execution_count": 17,
   "id": "automotive-dubai",
   "metadata": {},
   "outputs": [],
   "source": [
    "from pyspark.sql import SparkSession\n",
    "from pyspark.sql.functions import dayofmonth,month,year,to_date,trunc,split,explode,array\n",
    "\n",
    "# Create a local Spark session\n",
    "spark = SparkSession.builder.appName('etl').getOrCreate()"
   ]
  },
  {
   "cell_type": "code",
   "execution_count": 18,
   "id": "further-equivalent",
   "metadata": {},
   "outputs": [],
   "source": [
    "# Reads file \n",
    "df = spark.read.parquet('data/catalog.parquet')"
   ]
  },
  {
   "cell_type": "markdown",
   "id": "muslim-avatar",
   "metadata": {},
   "source": [
    "Data Frame schema "
   ]
  },
  {
   "cell_type": "code",
   "execution_count": 19,
   "id": "furnished-residence",
   "metadata": {},
   "outputs": [],
   "source": [
    "#df.printSchema()"
   ]
  },
  {
   "cell_type": "markdown",
   "id": "extra-channels",
   "metadata": {},
   "source": [
    "### Encounter Mapping "
   ]
  },
  {
   "cell_type": "markdown",
   "id": "fatal-confirmation",
   "metadata": {},
   "source": [
    "Filter By Encounter Resource type "
   ]
  },
  {
   "cell_type": "code",
   "execution_count": 20,
   "id": "undefined-building",
   "metadata": {},
   "outputs": [],
   "source": [
    "filtered = df.filter(df['resourceType'] == 'Encounter')"
   ]
  },
  {
   "cell_type": "code",
   "execution_count": 29,
   "id": "subtle-hopkins",
   "metadata": {},
   "outputs": [],
   "source": [
    "#filtered.printSchema()"
   ]
  },
  {
   "cell_type": "markdown",
   "id": "distinct-hydrogen",
   "metadata": {},
   "source": [
    "Selects relevant fields "
   ]
  },
  {
   "cell_type": "code",
   "execution_count": 23,
   "id": "sublime-reach",
   "metadata": {},
   "outputs": [],
   "source": [
    "Encounter = filtered.select(['id','subject','type',\n",
    "                              'location','hospitalization.admitSource',\n",
    "                              'period','extension.valueCodeableConcept'])"
   ]
  },
  {
   "cell_type": "markdown",
   "id": "crude-royal",
   "metadata": {},
   "source": [
    "Extract the start and end date along with the time from the period field."
   ]
  },
  {
   "cell_type": "code",
   "execution_count": 25,
   "id": "ultimate-investigator",
   "metadata": {},
   "outputs": [],
   "source": [
    "#splits the date and time\n",
    "split_start = split(Encounter['period.start'], 'T')\n",
    "split_end = split(Encounter['period.end'], 'T') \n",
    "\n",
    "#assigns each to a column \n",
    "vist_date_time = Encounter\\\n",
    "    .withColumn(\"visit_start_date\",split_start.getItem(0))\\\n",
    "    .withColumn(\"visit_start_datetime\",split_start.getItem(1))\\\n",
    "    .withColumn(\"visit_end_date\",split_end.getItem(0))\\\n",
    "    .withColumn(\"visit_end_datetime\",split_end.getItem(1))"
   ]
  },
  {
   "cell_type": "markdown",
   "id": "million-transition",
   "metadata": {},
   "source": [
    "Drop columns no longer needed"
   ]
  },
  {
   "cell_type": "code",
   "execution_count": 26,
   "id": "under-blanket",
   "metadata": {},
   "outputs": [],
   "source": [
    "dropped  = vist_date_time.drop(\"period\")"
   ]
  },
  {
   "cell_type": "markdown",
   "id": "potential-consciousness",
   "metadata": {},
   "source": [
    "Rename the columns "
   ]
  },
  {
   "cell_type": "code",
   "execution_count": 27,
   "id": "beginning-lighting",
   "metadata": {},
   "outputs": [],
   "source": [
    "visit_occurnace = dropped\\\n",
    "    .withColumnRenamed(\"type\",\"preceding_visit_occurence\")\\\n",
    "    .withColumnRenamed(\"id\",\"visit_occurence_id\")\\\n",
    "    .withColumnRenamed(\"admitSource\",\"admitting_source_concept_id\")\\\n",
    "    .withColumnRenamed(\"subject\",\"person_id\")\\\n",
    "    .withColumnRenamed(\"type\",\"preceding_visit_occurence\")\\\n",
    "    .withColumnRenamed(\"valueCodeableConcept\",\"visit_type_concept_id\")\n",
    "\n",
    "#.withColumnRenamed(\"location.location.id\",\"care_site_id\")\\    \n",
    "#.withColumnRenamed(\"location.location.type\",\"discharge_to_concept_id\")\\"
   ]
  },
  {
   "cell_type": "markdown",
   "id": "female-hardware",
   "metadata": {},
   "source": [
    "Shows mapped output table"
   ]
  },
  {
   "cell_type": "code",
   "execution_count": 30,
   "id": "liable-petite",
   "metadata": {},
   "outputs": [],
   "source": [
    "visit_occurnace.show(5) "
   ]
  }
 ],
 "metadata": {
  "kernelspec": {
   "display_name": "etl",
   "language": "python",
   "name": "etl"
  },
  "language_info": {
   "codemirror_mode": {
    "name": "ipython",
    "version": 3
   },
   "file_extension": ".py",
   "mimetype": "text/x-python",
   "name": "python",
   "nbconvert_exporter": "python",
   "pygments_lexer": "ipython3",
   "version": "3.9.2"
  }
 },
 "nbformat": 4,
 "nbformat_minor": 5
}
